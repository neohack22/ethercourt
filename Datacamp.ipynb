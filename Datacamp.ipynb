{
  "nbformat": 4,
  "nbformat_minor": 0,
  "metadata": {
    "colab": {
      "name": "Datacamp.ipynb",
      "version": "0.3.2",
      "provenance": [],
      "include_colab_link": true
    },
    "kernelspec": {
      "name": "python3",
      "display_name": "Python 3"
    }
  },
  "cells": [
    {
      "cell_type": "markdown",
      "metadata": {
        "id": "view-in-github",
        "colab_type": "text"
      },
      "source": [
        "<a href=\"https://colab.research.google.com/github/neohack22/ethercourt/blob/master/Datacamp.ipynb\" target=\"_parent\"><img src=\"https://colab.research.google.com/assets/colab-badge.svg\" alt=\"Open In Colab\"/></a>"
      ]
    },
    {
      "metadata": {
        "id": "MD11BKZCWJO9",
        "colab_type": "code",
        "colab": {}
      },
      "cell_type": "code",
      "source": [
        ""
      ],
      "execution_count": 0,
      "outputs": []
    },
    {
      "metadata": {
        "id": "0WDVzTItXiL7",
        "colab_type": "text"
      },
      "cell_type": "markdown",
      "source": [
        "1. variable: reserved memory w/ changeable value\n",
        "2. function: transforms zero or more inputs into some action\n",
        "3. class: template for creating user-defined objects\n",
        "4. method: predefined function of class\n",
        "5. argument: value passed to a function..."
      ]
    },
    {
      "metadata": {
        "id": "a9WPMuQnYPZ2",
        "colab_type": "text"
      },
      "cell_type": "markdown",
      "source": [
        ""
      ]
    },
    {
      "metadata": {
        "id": "z6OExWStY4c7",
        "colab_type": "code",
        "colab": {
          "base_uri": "https://localhost:8080/",
          "height": 34
        },
        "outputId": "158c0e3f-c58e-4b2b-e6cd-fd27c305385e"
      },
      "cell_type": "code",
      "source": [
        "type(134.12)"
      ],
      "execution_count": 1,
      "outputs": [
        {
          "output_type": "execute_result",
          "data": {
            "text/plain": [
              "float"
            ]
          },
          "metadata": {
            "tags": []
          },
          "execution_count": 1
        }
      ]
    },
    {
      "metadata": {
        "id": "TCDnHfr2Y_Cn",
        "colab_type": "code",
        "colab": {}
      },
      "cell_type": "code",
      "source": [
        ""
      ],
      "execution_count": 0,
      "outputs": []
    },
    {
      "metadata": {
        "id": "1sIwwGckY_GT",
        "colab_type": "code",
        "colab": {
          "base_uri": "https://localhost:8080/",
          "height": 34
        },
        "outputId": "0b3556f1-c3c6-4ca5-e4d9-faeee44cae5d"
      },
      "cell_type": "code",
      "source": [
        "type(134e12)"
      ],
      "execution_count": 2,
      "outputs": [
        {
          "output_type": "execute_result",
          "data": {
            "text/plain": [
              "float"
            ]
          },
          "metadata": {
            "tags": []
          },
          "execution_count": 2
        }
      ]
    },
    {
      "metadata": {
        "id": "UfFp8dcPZELb",
        "colab_type": "code",
        "colab": {
          "base_uri": "https://localhost:8080/",
          "height": 34
        },
        "outputId": "4eac9b1a-7a2b-4524-91bb-3885bff825d4"
      },
      "cell_type": "code",
      "source": [
        "type([\"ask\",0])"
      ],
      "execution_count": 3,
      "outputs": [
        {
          "output_type": "execute_result",
          "data": {
            "text/plain": [
              "list"
            ]
          },
          "metadata": {
            "tags": []
          },
          "execution_count": 3
        }
      ]
    },
    {
      "metadata": {
        "id": "dQaz13yjZHoX",
        "colab_type": "code",
        "colab": {
          "base_uri": "https://localhost:8080/",
          "height": 34
        },
        "outputId": "7463dc87-f0e6-49fb-ee40-c0b8d06126a4"
      },
      "cell_type": "code",
      "source": [
        "type({\"ask\",0})"
      ],
      "execution_count": 4,
      "outputs": [
        {
          "output_type": "execute_result",
          "data": {
            "text/plain": [
              "set"
            ]
          },
          "metadata": {
            "tags": []
          },
          "execution_count": 4
        }
      ]
    },
    {
      "metadata": {
        "id": "Yrs1qmmLZcEw",
        "colab_type": "code",
        "colab": {
          "base_uri": "https://localhost:8080/",
          "height": 34
        },
        "outputId": "0f73f930-add3-47b2-d076-111944f07b94"
      },
      "cell_type": "code",
      "source": [
        "type((\"ask\",0))"
      ],
      "execution_count": 5,
      "outputs": [
        {
          "output_type": "execute_result",
          "data": {
            "text/plain": [
              "tuple"
            ]
          },
          "metadata": {
            "tags": []
          },
          "execution_count": 5
        }
      ]
    },
    {
      "metadata": {
        "id": "ZdX_s95VZgIc",
        "colab_type": "code",
        "colab": {
          "base_uri": "https://localhost:8080/",
          "height": 34
        },
        "outputId": "13e7a2e8-40d9-409a-fbe8-aef2eb527c20"
      },
      "cell_type": "code",
      "source": [
        "type({'list':[1,0],'set':{1,0},'tuple':(1,0)})"
      ],
      "execution_count": 6,
      "outputs": [
        {
          "output_type": "execute_result",
          "data": {
            "text/plain": [
              "dict"
            ]
          },
          "metadata": {
            "tags": []
          },
          "execution_count": 6
        }
      ]
    },
    {
      "metadata": {
        "id": "L5k1-HHBZ7DS",
        "colab_type": "code",
        "colab": {
          "base_uri": "https://localhost:8080/",
          "height": 34
        },
        "outputId": "54f030b9-2c80-4460-efe4-bf6817130344"
      },
      "cell_type": "code",
      "source": [
        "type([[1,0],[1,2]])"
      ],
      "execution_count": 7,
      "outputs": [
        {
          "output_type": "execute_result",
          "data": {
            "text/plain": [
              "list"
            ]
          },
          "metadata": {
            "tags": []
          },
          "execution_count": 7
        }
      ]
    },
    {
      "metadata": {
        "id": "mDnz4hFiaCLz",
        "colab_type": "text"
      },
      "cell_type": "markdown",
      "source": [
        "Input and Output"
      ]
    },
    {
      "metadata": {
        "id": "WKTlNU_RaEBs",
        "colab_type": "code",
        "colab": {}
      },
      "cell_type": "code",
      "source": [
        "# Input directly\n",
        "txt='My name is Abdoulaye'"
      ],
      "execution_count": 0,
      "outputs": []
    },
    {
      "metadata": {
        "id": "jvxWDb3eaMQT",
        "colab_type": "code",
        "colab": {
          "base_uri": "https://localhost:8080/",
          "height": 34
        },
        "outputId": "dbce16bd-2af5-4172-d1b4-94d60c86ba77"
      },
      "cell_type": "code",
      "source": [
        "# Input by user\n",
        "age=input(\"Your age: \")"
      ],
      "execution_count": 10,
      "outputs": [
        {
          "output_type": "stream",
          "text": [
            "Your age: 34\n"
          ],
          "name": "stdout"
        }
      ]
    },
    {
      "metadata": {
        "id": "oCcClv4xaWvY",
        "colab_type": "code",
        "colab": {
          "base_uri": "https://localhost:8080/",
          "height": 129
        },
        "outputId": "7b9feb9d-95f1-4e41-a7c5-6e999de88e25"
      },
      "cell_type": "code",
      "source": [
        "# Output to user\n",
        "print(f'{txt}. I am {age} y.o.)\n",
        "# or print(txt,'and my age is', age)"
      ],
      "execution_count": 11,
      "outputs": [
        {
          "output_type": "error",
          "ename": "SyntaxError",
          "evalue": "ignored",
          "traceback": [
            "\u001b[0;36m  File \u001b[0;32m\"<ipython-input-11-9ece098cf64a>\"\u001b[0;36m, line \u001b[0;32m1\u001b[0m\n\u001b[0;31m    print(f'{txt}. I am {age} y.o.)\u001b[0m\n\u001b[0m                                   ^\u001b[0m\n\u001b[0;31mSyntaxError\u001b[0m\u001b[0;31m:\u001b[0m EOL while scanning string literal\n"
          ]
        }
      ]
    },
    {
      "metadata": {
        "id": "WjnGFaEWausC",
        "colab_type": "text"
      },
      "cell_type": "markdown",
      "source": [
        "Basic functions"
      ]
    },
    {
      "metadata": {
        "id": "uQTlm2fpawTz",
        "colab_type": "code",
        "colab": {
          "base_uri": "https://localhost:8080/",
          "height": 129
        },
        "outputId": "2fa2fc13-50d7-45e5-a372-ae03f9ca9bc5"
      },
      "cell_type": "code",
      "source": [
        "dict={'list':[1,0], 'set':{1,0},'tuple':(1,0)}\n",
        "dict.items()[]"
      ],
      "execution_count": 12,
      "outputs": [
        {
          "output_type": "error",
          "ename": "SyntaxError",
          "evalue": "ignored",
          "traceback": [
            "\u001b[0;36m  File \u001b[0;32m\"<ipython-input-12-d230d07dc3cc>\"\u001b[0;36m, line \u001b[0;32m2\u001b[0m\n\u001b[0;31m    dict.items()[]\u001b[0m\n\u001b[0m                 ^\u001b[0m\n\u001b[0;31mSyntaxError\u001b[0m\u001b[0;31m:\u001b[0m invalid syntax\n"
          ]
        }
      ]
    },
    {
      "metadata": {
        "id": "Tp6Orw_SbBIA",
        "colab_type": "code",
        "colab": {
          "base_uri": "https://localhost:8080/",
          "height": 34
        },
        "outputId": "d6899d7c-63e8-49e7-bdad-f674fdcbf0cf"
      },
      "cell_type": "code",
      "source": [
        "dict={'list':[1,0], 'set':{1,0},'tuple':(1,0)}\n",
        "dict.items()"
      ],
      "execution_count": 13,
      "outputs": [
        {
          "output_type": "execute_result",
          "data": {
            "text/plain": [
              "dict_items([('list', [1, 0]), ('set', {0, 1}), ('tuple', (1, 0))])"
            ]
          },
          "metadata": {
            "tags": []
          },
          "execution_count": 13
        }
      ]
    },
    {
      "metadata": {
        "id": "45f8hLF3bCX5",
        "colab_type": "text"
      },
      "cell_type": "markdown",
      "source": [
        "booleans"
      ]
    },
    {
      "metadata": {
        "id": "616o9QDGbDwh",
        "colab_type": "code",
        "colab": {
          "base_uri": "https://localhost:8080/",
          "height": 34
        },
        "outputId": "61df91a9-dcab-4ab9-af0b-73ff8a9b1f74"
      },
      "cell_type": "code",
      "source": [
        "93>80"
      ],
      "execution_count": 14,
      "outputs": [
        {
          "output_type": "execute_result",
          "data": {
            "text/plain": [
              "True"
            ]
          },
          "metadata": {
            "tags": []
          },
          "execution_count": 14
        }
      ]
    },
    {
      "metadata": {
        "id": "LL8i1WFQbF7O",
        "colab_type": "code",
        "colab": {
          "base_uri": "https://localhost:8080/",
          "height": 34
        },
        "outputId": "db8f67e6-3623-4719-94a6-c7a7c150400d"
      },
      "cell_type": "code",
      "source": [
        "9>80"
      ],
      "execution_count": 15,
      "outputs": [
        {
          "output_type": "execute_result",
          "data": {
            "text/plain": [
              "False"
            ]
          },
          "metadata": {
            "tags": []
          },
          "execution_count": 15
        }
      ]
    },
    {
      "metadata": {
        "id": "rMkwCUfBbIux",
        "colab_type": "code",
        "colab": {
          "base_uri": "https://localhost:8080/",
          "height": 34
        },
        "outputId": "3e8a1619-c91e-4d43-8b92-c9d09caf17ba"
      },
      "cell_type": "code",
      "source": [
        "print((93>80)&(2 in [1,2,3]))"
      ],
      "execution_count": 16,
      "outputs": [
        {
          "output_type": "stream",
          "text": [
            "True\n"
          ],
          "name": "stdout"
        }
      ]
    },
    {
      "metadata": {
        "id": "Z9WvJnVbbRXQ",
        "colab_type": "code",
        "colab": {
          "base_uri": "https://localhost:8080/",
          "height": 34
        },
        "outputId": "f0c4af00-7c83-466d-aa1c-faed9e27c233"
      },
      "cell_type": "code",
      "source": [
        "print((93>80)&(2 in [1,4,3]))"
      ],
      "execution_count": 17,
      "outputs": [
        {
          "output_type": "stream",
          "text": [
            "False\n"
          ],
          "name": "stdout"
        }
      ]
    },
    {
      "metadata": {
        "id": "Ot1pYpJ2bU43",
        "colab_type": "code",
        "colab": {
          "base_uri": "https://localhost:8080/",
          "height": 34
        },
        "outputId": "35ae3cbc-ecc7-4618-aea3-4f2c6acfd814"
      },
      "cell_type": "code",
      "source": [
        "print((93>80) or (2 in [1,4,3]))"
      ],
      "execution_count": 18,
      "outputs": [
        {
          "output_type": "stream",
          "text": [
            "True\n"
          ],
          "name": "stdout"
        }
      ]
    },
    {
      "metadata": {
        "id": "wclcJWtNbXpH",
        "colab_type": "text"
      },
      "cell_type": "markdown",
      "source": [
        "conditional statements"
      ]
    },
    {
      "metadata": {
        "id": "MlGGK29dbZye",
        "colab_type": "code",
        "colab": {
          "base_uri": "https://localhost:8080/",
          "height": 163
        },
        "outputId": "63c92366-2f48-4179-9ef0-467725772bc6"
      },
      "cell_type": "code",
      "source": [
        "Image(filename='C:/Users/eldiy/Downloads/Black_Mirror.png')"
      ],
      "execution_count": 19,
      "outputs": [
        {
          "output_type": "error",
          "ename": "NameError",
          "evalue": "ignored",
          "traceback": [
            "\u001b[0;31m---------------------------------------------------------------------------\u001b[0m",
            "\u001b[0;31mNameError\u001b[0m                                 Traceback (most recent call last)",
            "\u001b[0;32m<ipython-input-19-e6d48659810b>\u001b[0m in \u001b[0;36m<module>\u001b[0;34m()\u001b[0m\n\u001b[0;32m----> 1\u001b[0;31m \u001b[0mImage\u001b[0m\u001b[0;34m(\u001b[0m\u001b[0mfilename\u001b[0m\u001b[0;34m=\u001b[0m\u001b[0;34m'C:/Users/eldiy/Downloads/Black_Mirror.png'\u001b[0m\u001b[0;34m)\u001b[0m\u001b[0;34m\u001b[0m\u001b[0;34m\u001b[0m\u001b[0m\n\u001b[0m",
            "\u001b[0;31mNameError\u001b[0m: name 'Image' is not defined"
          ]
        }
      ]
    },
    {
      "metadata": {
        "id": "2L0lVOrnbuS0",
        "colab_type": "code",
        "colab": {}
      },
      "cell_type": "code",
      "source": [
        ""
      ],
      "execution_count": 0,
      "outputs": []
    },
    {
      "metadata": {
        "id": "JDn5u3_DbzJl",
        "colab_type": "text"
      },
      "cell_type": "markdown",
      "source": [
        "exercise. conditional logic"
      ]
    },
    {
      "metadata": {
        "id": "SZUNYc4jb2Le",
        "colab_type": "code",
        "colab": {
          "base_uri": "https://localhost:8080/",
          "height": 129
        },
        "outputId": "10049706-ec41-429c-dfe8-045090f87247"
      },
      "cell_type": "code",
      "source": [
        "commut = 30\n",
        "rain = False\n",
        "traffic = False\n",
        "\n",
        "if (rain==!False) and (traffic==False):\n",
        "  total_commute=commute+15\n",
        "elif (rain==False) and (traffic==True):\n",
        "  total_commute=commute+20\n",
        "elif (rain==True) and (traffic==True):\n",
        "  total_commute=commute+20+15\n",
        "else:\n",
        "  total_commute=commute\n",
        "print(f\"Your total commute time is expected to be {total_commute} minutes.\"\")\n",
        "\n",
        "# total_commute = commute + 15*((rain == True) & (traffic == False)) + 20*((rain == False )) & ()traffic == True)\n",
        "# print(f\"Your total commute time is expected to be {total_commute} minutes.\")"
      ],
      "execution_count": 20,
      "outputs": [
        {
          "output_type": "error",
          "ename": "SyntaxError",
          "evalue": "ignored",
          "traceback": [
            "\u001b[0;36m  File \u001b[0;32m\"<ipython-input-20-31ab63695279>\"\u001b[0;36m, line \u001b[0;32m5\u001b[0m\n\u001b[0;31m    if (rain==!False) and (traffic==False):\u001b[0m\n\u001b[0m              ^\u001b[0m\n\u001b[0;31mSyntaxError\u001b[0m\u001b[0;31m:\u001b[0m invalid syntax\n"
          ]
        }
      ]
    },
    {
      "metadata": {
        "id": "XTJ23s1idczB",
        "colab_type": "code",
        "colab": {
          "base_uri": "https://localhost:8080/",
          "height": 129
        },
        "outputId": "f4ac4326-9470-4f39-9606-e1184dfe09df"
      },
      "cell_type": "code",
      "source": [
        "commut = 30\n",
        "rain = False\n",
        "traffic = False\n",
        "\n",
        "if (rain!=False) and (traffic==False):\n",
        "  total_commute=commute+15\n",
        "elif (rain==False) and (traffic==True):\n",
        "  total_commute=commute+20\n",
        "elif (rain==True) and (traffic==True):\n",
        "  total_commute=commute+20+15\n",
        "else:\n",
        "  total_commute=commute\n",
        "print(f\"Your total commute time is expected to be {total_commute} minutes.\"\")\n",
        "\n",
        "# total_commute = commute + 15*((rain == True) & (traffic == False)) + 20*((rain == False )) & ()traffic == True)\n",
        "# print(f\"Your total commute time is expected to be {total_commute} minutes.\")"
      ],
      "execution_count": 21,
      "outputs": [
        {
          "output_type": "error",
          "ename": "SyntaxError",
          "evalue": "ignored",
          "traceback": [
            "\u001b[0;36m  File \u001b[0;32m\"<ipython-input-21-f24d29010bb8>\"\u001b[0;36m, line \u001b[0;32m13\u001b[0m\n\u001b[0;31m    print(f\"Your total commute time is expected to be {total_commute} minutes.\"\")\u001b[0m\n\u001b[0m                                                                                 ^\u001b[0m\n\u001b[0;31mSyntaxError\u001b[0m\u001b[0;31m:\u001b[0m EOL while scanning string literal\n"
          ]
        }
      ]
    },
    {
      "metadata": {
        "id": "O_fLhATndj9P",
        "colab_type": "code",
        "colab": {
          "base_uri": "https://localhost:8080/",
          "height": 231
        },
        "outputId": "e5d4d19e-50c2-4c5c-84c6-1307feab626d"
      },
      "cell_type": "code",
      "source": [
        "commut = 30\n",
        "rain = False\n",
        "traffic = False\n",
        "\n",
        "if (rain!=False) and (traffic==False):\n",
        "  total_commute=commute+15\n",
        "elif (rain==False) and (traffic==True):\n",
        "  total_commute=commute+20\n",
        "elif (rain==True) and (traffic==True):\n",
        "  total_commute=commute+20+15\n",
        "else:\n",
        "  total_commute=commute\n",
        "print(f\"Your total commute time is expected to be {total_commute} minutes.\")\n",
        "\n",
        "# total_commute = commute + 15*((rain == True) & (traffic == False)) + 20*((rain == False )) & ()traffic == True)\n",
        "# print(f\"Your total commute time is expected to be {total_commute} minutes.\")"
      ],
      "execution_count": 22,
      "outputs": [
        {
          "output_type": "error",
          "ename": "NameError",
          "evalue": "ignored",
          "traceback": [
            "\u001b[0;31m---------------------------------------------------------------------------\u001b[0m",
            "\u001b[0;31mNameError\u001b[0m                                 Traceback (most recent call last)",
            "\u001b[0;32m<ipython-input-22-7ed819559b39>\u001b[0m in \u001b[0;36m<module>\u001b[0;34m()\u001b[0m\n\u001b[1;32m     10\u001b[0m   \u001b[0mtotal_commute\u001b[0m\u001b[0;34m=\u001b[0m\u001b[0mcommute\u001b[0m\u001b[0;34m+\u001b[0m\u001b[0;36m20\u001b[0m\u001b[0;34m+\u001b[0m\u001b[0;36m15\u001b[0m\u001b[0;34m\u001b[0m\u001b[0;34m\u001b[0m\u001b[0m\n\u001b[1;32m     11\u001b[0m \u001b[0;32melse\u001b[0m\u001b[0;34m:\u001b[0m\u001b[0;34m\u001b[0m\u001b[0;34m\u001b[0m\u001b[0m\n\u001b[0;32m---> 12\u001b[0;31m   \u001b[0mtotal_commute\u001b[0m\u001b[0;34m=\u001b[0m\u001b[0mcommute\u001b[0m\u001b[0;34m\u001b[0m\u001b[0;34m\u001b[0m\u001b[0m\n\u001b[0m\u001b[1;32m     13\u001b[0m \u001b[0mprint\u001b[0m\u001b[0;34m(\u001b[0m\u001b[0;34mf\"Your total commute time is expected to be {total_commute} minutes.\"\u001b[0m\u001b[0;34m)\u001b[0m\u001b[0;34m\u001b[0m\u001b[0;34m\u001b[0m\u001b[0m\n\u001b[1;32m     14\u001b[0m \u001b[0;34m\u001b[0m\u001b[0m\n",
            "\u001b[0;31mNameError\u001b[0m: name 'commute' is not defined"
          ]
        }
      ]
    },
    {
      "metadata": {
        "id": "9SqFafUZdpYz",
        "colab_type": "code",
        "colab": {
          "base_uri": "https://localhost:8080/",
          "height": 34
        },
        "outputId": "78ffbb14-771f-40ac-9a56-61e4ec2465ef"
      },
      "cell_type": "code",
      "source": [
        "commute = 30\n",
        "rain = False\n",
        "traffic = False\n",
        "\n",
        "if (rain!=False) and (traffic==False):\n",
        "  total_commute=commute+15\n",
        "elif (rain==False) and (traffic==True):\n",
        "  total_commute=commute+20\n",
        "elif (rain==True) # and (traffic==True):\n",
        "  if (traffic==True): # instead of the previous comment\n",
        "    total_commute=commute+20+15 #indentation become necessary\n",
        "else:\n",
        "  total_commute=commute\n",
        "print(f\"Your total commute time is expected to be {total_commute} minutes.\")\n",
        "\n",
        "# total_commute = commute + 15*((rain == True) & (traffic == False)) + 20*((rain == False )) & ()traffic == True)\n",
        "# print(f\"Your total commute time is expected to be {total_commute} minutes.\")"
      ],
      "execution_count": 23,
      "outputs": [
        {
          "output_type": "stream",
          "text": [
            "Your total commute time is expected to be 30 minutes.\n"
          ],
          "name": "stdout"
        }
      ]
    },
    {
      "metadata": {
        "id": "uxbBHvX9aGSe",
        "colab_type": "code",
        "colab": {
          "base_uri": "https://localhost:8080/",
          "height": 129
        },
        "outputId": "ced0e3e0-7071-4cb0-9f29-e1c108c4120c"
      },
      "cell_type": "code",
      "source": [
        "commute = 30\n",
        "rain = False\n",
        "traffic = False\n",
        "\n",
        "if (rain!=False) and (traffic==False):\n",
        "  total_commute=commute+15\n",
        "elif (rain==False) and (traffic==True):\n",
        "  total_commute=commute+20\n",
        "elif (rain==True) # and (traffic==True):\n",
        "  if (traffic==True): # instead of the previous comment\n",
        "    total_commute=commute+20+15 #indentation become necessary\n",
        "else:\n",
        "  total_commute=commute\n",
        "print(f\"Your total commute time is expected to be {total_commute} minutes.\")\n",
        "\n",
        "# total_commute = commute + 15*((rain == True) & (traffic == False)) + 20*((rain == False )) & ()traffic == True)\n",
        "# print(f\"Your total commute time is expected to be {total_commute} minutes.\")"
      ],
      "execution_count": 24,
      "outputs": [
        {
          "output_type": "error",
          "ename": "SyntaxError",
          "evalue": "ignored",
          "traceback": [
            "\u001b[0;36m  File \u001b[0;32m\"<ipython-input-24-66934a999c01>\"\u001b[0;36m, line \u001b[0;32m9\u001b[0m\n\u001b[0;31m    elif (rain==True) # and (traffic==True):\u001b[0m\n\u001b[0m                                            ^\u001b[0m\n\u001b[0;31mSyntaxError\u001b[0m\u001b[0;31m:\u001b[0m invalid syntax\n"
          ]
        }
      ]
    },
    {
      "metadata": {
        "id": "v0WzfceQeTAd",
        "colab_type": "code",
        "colab": {
          "base_uri": "https://localhost:8080/",
          "height": 34
        },
        "outputId": "c1c24fcf-1a43-44bd-b395-c22ac21dc494"
      },
      "cell_type": "code",
      "source": [
        "commute = 30\n",
        "rain = False\n",
        "traffic = False\n",
        "\n",
        "if (rain!=False) and (traffic==False):\n",
        "  total_commute=commute+15\n",
        "elif (rain==False) and (traffic==True):\n",
        "  total_commute=commute+20\n",
        "elif (rain==True): # and (traffic==True):\n",
        "  if (traffic==True): # instead of the previous comment\n",
        "    total_commute=commute+20+15 #indentation become necessary\n",
        "else:\n",
        "  total_commute=commute\n",
        "print(f\"Your total commute time is expected to be {total_commute} minutes.\")\n",
        "\n",
        "# total_commute = commute + 15*((rain == True) & (traffic == False)) + 20*((rain == False )) & ()traffic == True)\n",
        "# print(f\"Your total commute time is expected to be {total_commute} minutes.\")"
      ],
      "execution_count": 25,
      "outputs": [
        {
          "output_type": "stream",
          "text": [
            "Your total commute time is expected to be 30 minutes.\n"
          ],
          "name": "stdout"
        }
      ]
    },
    {
      "metadata": {
        "id": "xv-aVWxoeXPz",
        "colab_type": "code",
        "colab": {}
      },
      "cell_type": "code",
      "source": [
        "# define by number of elements\n",
        "\n",
        "# de"
      ],
      "execution_count": 0,
      "outputs": []
    },
    {
      "metadata": {
        "id": "sVi-7IcwegKm",
        "colab_type": "code",
        "colab": {}
      },
      "cell_type": "code",
      "source": [
        "for loop"
      ],
      "execution_count": 0,
      "outputs": []
    },
    {
      "metadata": {
        "id": "ZEgzdzUQehOF",
        "colab_type": "code",
        "colab": {
          "base_uri": "https://localhost:8080/",
          "height": 119
        },
        "outputId": "d7c717eb-fd5a-45fb-e872-a46f432237e5"
      },
      "cell_type": "code",
      "source": [
        "ages = {'Brian':23, 'Amy':22, 'Darlene':47, 'Ralph':32, 'Jordan':28, 'Stephanie':35}\n",
        "for i,item in enumerate(ages):\n",
        "  print(ages[item])"
      ],
      "execution_count": 26,
      "outputs": [
        {
          "output_type": "stream",
          "text": [
            "23\n",
            "22\n",
            "47\n",
            "32\n",
            "28\n",
            "35\n"
          ],
          "name": "stdout"
        }
      ]
    },
    {
      "metadata": {
        "id": "qjlq_QTEe3Tk",
        "colab_type": "code",
        "colab": {
          "base_uri": "https://localhost:8080/",
          "height": 119
        },
        "outputId": "d3c5add8-591e-46f6-c59e-f3bcfe1b6225"
      },
      "cell_type": "code",
      "source": [
        "ages = {'Brian':23, 'Amy':22, 'Darlene':47, 'Ralph':32, 'Jordan':28, 'Stephanie':35}\n",
        "for name,age in ages.items():\n",
        "  print(name)"
      ],
      "execution_count": 27,
      "outputs": [
        {
          "output_type": "stream",
          "text": [
            "Brian\n",
            "Amy\n",
            "Darlene\n",
            "Ralph\n",
            "Jordan\n",
            "Stephanie\n"
          ],
          "name": "stdout"
        }
      ]
    },
    {
      "metadata": {
        "id": "fgfel2iofC-J",
        "colab_type": "code",
        "colab": {
          "base_uri": "https://localhost:8080/",
          "height": 119
        },
        "outputId": "cf8794b7-7cd7-4c72-99ec-37d8e1b8ccb4"
      },
      "cell_type": "code",
      "source": [
        "ages = {'Brian':23, 'Amy':22, 'Darlene':47, 'Ralph':32, 'Jordan':28, 'Stephanie':35}\n",
        "for name,age in ages.items():\n",
        "  print(age)"
      ],
      "execution_count": 28,
      "outputs": [
        {
          "output_type": "stream",
          "text": [
            "23\n",
            "22\n",
            "47\n",
            "32\n",
            "28\n",
            "35\n"
          ],
          "name": "stdout"
        }
      ]
    },
    {
      "metadata": {
        "id": "q6z2ectRfJTa",
        "colab_type": "code",
        "colab": {
          "base_uri": "https://localhost:8080/",
          "height": 102
        },
        "outputId": "125279ad-c849-4945-d323-f1b3a4ffb106"
      },
      "cell_type": "code",
      "source": [
        "fruits = ['apple', 'orange', 'banana', 'grapes', 'pineapple']\n",
        "for fruit in fruits:\n",
        "  print(fruit)"
      ],
      "execution_count": 29,
      "outputs": [
        {
          "output_type": "stream",
          "text": [
            "apple\n",
            "orange\n",
            "banana\n",
            "grapes\n",
            "pineapple\n"
          ],
          "name": "stdout"
        }
      ]
    },
    {
      "metadata": {
        "id": "Frdvgkvifd6e",
        "colab_type": "code",
        "colab": {
          "base_uri": "https://localhost:8080/",
          "height": 119
        },
        "outputId": "66ca96c5-7a4d-4d0c-a089-d09ebbf5ccb2"
      },
      "cell_type": "code",
      "source": [
        "ages = {'Brian':23, 'Amy':22, 'Darlene':47, 'Ralph':32, 'Jordan':28, 'Stephanie':35}\n",
        "for name,age in ages.items():\n",
        "  print(name, \"is\", age, \"years old.\")"
      ],
      "execution_count": 30,
      "outputs": [
        {
          "output_type": "stream",
          "text": [
            "Brian is 23 years old.\n",
            "Amy is 22 years old.\n",
            "Darlene is 47 years old.\n",
            "Ralph is 32 years old.\n",
            "Jordan is 28 years old.\n",
            "Stephanie is 35 years old.\n"
          ],
          "name": "stdout"
        }
      ]
    },
    {
      "metadata": {
        "id": "7hujak8EgV2k",
        "colab_type": "code",
        "colab": {
          "base_uri": "https://localhost:8080/",
          "height": 187
        },
        "outputId": "5771d8ff-c96e-492e-e210-f444b18c5c1c"
      },
      "cell_type": "code",
      "source": [
        "for i in range(len(fruits)):\n",
        "  print(i) #iterate over seq[i]\n",
        "  print(fruit[i])"
      ],
      "execution_count": 31,
      "outputs": [
        {
          "output_type": "stream",
          "text": [
            "0\n",
            "p\n",
            "1\n",
            "i\n",
            "2\n",
            "n\n",
            "3\n",
            "e\n",
            "4\n",
            "a\n"
          ],
          "name": "stdout"
        }
      ]
    },
    {
      "metadata": {
        "id": "Z9jYttC9gmX4",
        "colab_type": "code",
        "colab": {
          "base_uri": "https://localhost:8080/",
          "height": 187
        },
        "outputId": "a4f38ede-92c7-40db-cce2-d623df0f36d9"
      },
      "cell_type": "code",
      "source": [
        "for i in range(len(fruits)):\n",
        "  print(i) #iterate over seq[i]\n",
        "  print(fruits[i])"
      ],
      "execution_count": 32,
      "outputs": [
        {
          "output_type": "stream",
          "text": [
            "0\n",
            "apple\n",
            "1\n",
            "orange\n",
            "2\n",
            "banana\n",
            "3\n",
            "grapes\n",
            "4\n",
            "pineapple\n"
          ],
          "name": "stdout"
        }
      ]
    },
    {
      "metadata": {
        "id": "XG_nFqx9g3t0",
        "colab_type": "code",
        "colab": {
          "base_uri": "https://localhost:8080/",
          "height": 102
        },
        "outputId": "ba5a21ad-8256-459d-c982-15c3ba97b5f7"
      },
      "cell_type": "code",
      "source": [
        "for i in enumerate(fruits):\n",
        "  print(i, item) #iterate over seq[i]"
      ],
      "execution_count": 33,
      "outputs": [
        {
          "output_type": "stream",
          "text": [
            "(0, 'apple') Stephanie\n",
            "(1, 'orange') Stephanie\n",
            "(2, 'banana') Stephanie\n",
            "(3, 'grapes') Stephanie\n",
            "(4, 'pineapple') Stephanie\n"
          ],
          "name": "stdout"
        }
      ]
    },
    {
      "metadata": {
        "id": "QgkEoKWDhDUl",
        "colab_type": "code",
        "colab": {
          "base_uri": "https://localhost:8080/",
          "height": 102
        },
        "outputId": "ef94dc2d-875e-488d-c2a7-5d9cb15dacef"
      },
      "cell_type": "code",
      "source": [
        "for i,item in enumerate(fruits):\n",
        "  print(i, item) #iterate over seq[i]"
      ],
      "execution_count": 34,
      "outputs": [
        {
          "output_type": "stream",
          "text": [
            "0 apple\n",
            "1 orange\n",
            "2 banana\n",
            "3 grapes\n",
            "4 pineapple\n"
          ],
          "name": "stdout"
        }
      ]
    },
    {
      "metadata": {
        "id": "DNsFMx-lhHgz",
        "colab_type": "code",
        "colab": {
          "base_uri": "https://localhost:8080/",
          "height": 119
        },
        "outputId": "ac3f67d5-d8f6-45ef-b91a-4505231d7be9"
      },
      "cell_type": "code",
      "source": [
        "for i,item in enumerate(ages):\n",
        "  print(i, item) #iterate over seq[i]"
      ],
      "execution_count": 35,
      "outputs": [
        {
          "output_type": "stream",
          "text": [
            "0 Brian\n",
            "1 Amy\n",
            "2 Darlene\n",
            "3 Ralph\n",
            "4 Jordan\n",
            "5 Stephanie\n"
          ],
          "name": "stdout"
        }
      ]
    },
    {
      "metadata": {
        "id": "uayRH5ZQhOvv",
        "colab_type": "code",
        "colab": {
          "base_uri": "https://localhost:8080/",
          "height": 119
        },
        "outputId": "2f50c408-2413-4b59-8229-ed1864139dcc"
      },
      "cell_type": "code",
      "source": [
        "for i,item in enumerate(ages):\n",
        "  i=i+1\n",
        "  print(i, item) #iterate over seq[i]"
      ],
      "execution_count": 36,
      "outputs": [
        {
          "output_type": "stream",
          "text": [
            "1 Brian\n",
            "2 Amy\n",
            "3 Darlene\n",
            "4 Ralph\n",
            "5 Jordan\n",
            "6 Stephanie\n"
          ],
          "name": "stdout"
        }
      ]
    },
    {
      "metadata": {
        "id": "7CzyTPaoheW-",
        "colab_type": "code",
        "colab": {
          "base_uri": "https://localhost:8080/",
          "height": 119
        },
        "outputId": "3842a979-76a7-4bfe-d890-e0f72581f245"
      },
      "cell_type": "code",
      "source": [
        "for i,item in enumerate(ages):\n",
        "  print(i, item) #iterate over seq[i]"
      ],
      "execution_count": 37,
      "outputs": [
        {
          "output_type": "stream",
          "text": [
            "0 Brian\n",
            "1 Amy\n",
            "2 Darlene\n",
            "3 Ralph\n",
            "4 Jordan\n",
            "5 Stephanie\n"
          ],
          "name": "stdout"
        }
      ]
    },
    {
      "metadata": {
        "id": "MDenhnv0hhcv",
        "colab_type": "text"
      },
      "cell_type": "markdown",
      "source": [
        "while loop"
      ]
    },
    {
      "metadata": {
        "id": "fkYaMEyQhibr",
        "colab_type": "code",
        "colab": {
          "base_uri": "https://localhost:8080/",
          "height": 129
        },
        "outputId": "95561d56-c958-4a04-cac5-c3c3d1aea148"
      },
      "cell_type": "code",
      "source": [
        "total_time = 60\n",
        "minutes_elapsed = 0\n",
        "wait =15\n",
        "\n",
        "print(\"Cake is in the oven.\")\n",
        "minutes_elapsed += wait\n",
        "\n",
        "while minutes_elapsed < total_time:\n",
        "  print(f\"{minutes_elapsed} minutes past. Cake is not done yet.\")\n",
        "  \n",
        "  minutes_elapsed += wait\n",
        "  \n",
        "print(It's done. Let's eat cake!\")\")"
      ],
      "execution_count": 38,
      "outputs": [
        {
          "output_type": "error",
          "ename": "SyntaxError",
          "evalue": "ignored",
          "traceback": [
            "\u001b[0;36m  File \u001b[0;32m\"<ipython-input-38-c92bcfda07a3>\"\u001b[0;36m, line \u001b[0;32m13\u001b[0m\n\u001b[0;31m    print(It's done. Let's eat cake!\")\")\u001b[0m\n\u001b[0m                        ^\u001b[0m\n\u001b[0;31mSyntaxError\u001b[0m\u001b[0;31m:\u001b[0m invalid syntax\n"
          ]
        }
      ]
    },
    {
      "metadata": {
        "id": "AP-psKlIiKyS",
        "colab_type": "code",
        "colab": {
          "base_uri": "https://localhost:8080/",
          "height": 102
        },
        "outputId": "9dcfec7b-fb07-4ff2-fbed-77cea046db9d"
      },
      "cell_type": "code",
      "source": [
        "total_time = 60\n",
        "minutes_elapsed = 0\n",
        "wait =15\n",
        "\n",
        "print(\"Cake is in the oven.\")\n",
        "minutes_elapsed += wait\n",
        "\n",
        "while minutes_elapsed < total_time:\n",
        "  print(f\"{minutes_elapsed} minutes past. Cake is not done yet.\")\n",
        "  \n",
        "  minutes_elapsed += wait\n",
        "  \n",
        "print(\"It's done. Let's eat cake!\")"
      ],
      "execution_count": 39,
      "outputs": [
        {
          "output_type": "stream",
          "text": [
            "Cake is in the oven.\n",
            "15 minutes past. Cake is not done yet.\n",
            "30 minutes past. Cake is not done yet.\n",
            "45 minutes past. Cake is not done yet.\n",
            "It's done. Let's eat cake!\n"
          ],
          "name": "stdout"
        }
      ]
    },
    {
      "metadata": {
        "id": "c7d-V5gYiOtY",
        "colab_type": "code",
        "colab": {}
      },
      "cell_type": "code",
      "source": [
        "total_time = 60 #time needed to\n",
        "minutes_elapsed = 0 #time elapsed\n",
        "wait =15 #step\n",
        "\n",
        "print(\"Cake is in the oven.\")\n",
        "minutes_elapsed += wait\n",
        "\n",
        "while minutes_elapsed < total_time:\n",
        "  print(f\"{minutes_elapsed} minutes past. Cake is not done yet.\")\n",
        "  \n",
        "  minutes_elapsed += wait\n",
        "  \n",
        "print(It's done. Let's eat cake!\")\")"
      ],
      "execution_count": 0,
      "outputs": []
    },
    {
      "metadata": {
        "id": "OM6V5Vi4ibJU",
        "colab_type": "text"
      },
      "cell_type": "markdown",
      "source": [
        "# list comprehensions"
      ]
    },
    {
      "metadata": {
        "id": "rrSFKBbXipO2",
        "colab_type": "text"
      },
      "cell_type": "markdown",
      "source": [
        "loop and if statement in 1 row"
      ]
    },
    {
      "metadata": {
        "id": "7WzmUMgBilxX",
        "colab_type": "code",
        "colab": {
          "base_uri": "https://localhost:8080/",
          "height": 129
        },
        "outputId": "f19eb1c2-0543-4cb9-f8f1-ac7a992c2889"
      },
      "cell_type": "code",
      "source": [
        "lst[]\n",
        "lst"
      ],
      "execution_count": 40,
      "outputs": [
        {
          "output_type": "error",
          "ename": "SyntaxError",
          "evalue": "ignored",
          "traceback": [
            "\u001b[0;36m  File \u001b[0;32m\"<ipython-input-40-81c40ec28c53>\"\u001b[0;36m, line \u001b[0;32m1\u001b[0m\n\u001b[0;31m    lst[]\u001b[0m\n\u001b[0m        ^\u001b[0m\n\u001b[0;31mSyntaxError\u001b[0m\u001b[0;31m:\u001b[0m invalid syntax\n"
          ]
        }
      ]
    },
    {
      "metadata": {
        "id": "sn8Est7VjEk2",
        "colab_type": "code",
        "colab": {
          "base_uri": "https://localhost:8080/",
          "height": 34
        },
        "outputId": "59fb2360-37f2-4c4d-cc7e-025b44f1fa07"
      },
      "cell_type": "code",
      "source": [
        "lst=[]\n",
        "lst"
      ],
      "execution_count": 41,
      "outputs": [
        {
          "output_type": "execute_result",
          "data": {
            "text/plain": [
              "[]"
            ]
          },
          "metadata": {
            "tags": []
          },
          "execution_count": 41
        }
      ]
    },
    {
      "metadata": {
        "id": "KuAaLvPBjGzj",
        "colab_type": "code",
        "colab": {
          "base_uri": "https://localhost:8080/",
          "height": 34
        },
        "outputId": "ffcd8f51-f935-4f7c-a0f5-e048d4dd1b6a"
      },
      "cell_type": "code",
      "source": [
        "lst=[0,1,2]\n",
        "lst"
      ],
      "execution_count": 42,
      "outputs": [
        {
          "output_type": "execute_result",
          "data": {
            "text/plain": [
              "[0, 1, 2]"
            ]
          },
          "metadata": {
            "tags": []
          },
          "execution_count": 42
        }
      ]
    },
    {
      "metadata": {
        "id": "WuYvSGdLjKSY",
        "colab_type": "code",
        "colab": {
          "base_uri": "https://localhost:8080/",
          "height": 54
        },
        "outputId": "c5b6842e-ab58-43d1-95f5-467a92bf9bc3"
      },
      "cell_type": "code",
      "source": [
        "lst=[]\n",
        "for i in range(100):\n",
        "  lst.append(i)\n",
        "print(lst)"
      ],
      "execution_count": 43,
      "outputs": [
        {
          "output_type": "stream",
          "text": [
            "[0, 1, 2, 3, 4, 5, 6, 7, 8, 9, 10, 11, 12, 13, 14, 15, 16, 17, 18, 19, 20, 21, 22, 23, 24, 25, 26, 27, 28, 29, 30, 31, 32, 33, 34, 35, 36, 37, 38, 39, 40, 41, 42, 43, 44, 45, 46, 47, 48, 49, 50, 51, 52, 53, 54, 55, 56, 57, 58, 59, 60, 61, 62, 63, 64, 65, 66, 67, 68, 69, 70, 71, 72, 73, 74, 75, 76, 77, 78, 79, 80, 81, 82, 83, 84, 85, 86, 87, 88, 89, 90, 91, 92, 93, 94, 95, 96, 97, 98, 99]\n"
          ],
          "name": "stdout"
        }
      ]
    },
    {
      "metadata": {
        "id": "co0XtRkDjdwA",
        "colab_type": "code",
        "colab": {
          "base_uri": "https://localhost:8080/",
          "height": 1717
        },
        "outputId": "45f06d57-5a3e-4ce4-e9d7-15519572c01d"
      },
      "cell_type": "code",
      "source": [
        "[i for i in range(100)]"
      ],
      "execution_count": 44,
      "outputs": [
        {
          "output_type": "execute_result",
          "data": {
            "text/plain": [
              "[0,\n",
              " 1,\n",
              " 2,\n",
              " 3,\n",
              " 4,\n",
              " 5,\n",
              " 6,\n",
              " 7,\n",
              " 8,\n",
              " 9,\n",
              " 10,\n",
              " 11,\n",
              " 12,\n",
              " 13,\n",
              " 14,\n",
              " 15,\n",
              " 16,\n",
              " 17,\n",
              " 18,\n",
              " 19,\n",
              " 20,\n",
              " 21,\n",
              " 22,\n",
              " 23,\n",
              " 24,\n",
              " 25,\n",
              " 26,\n",
              " 27,\n",
              " 28,\n",
              " 29,\n",
              " 30,\n",
              " 31,\n",
              " 32,\n",
              " 33,\n",
              " 34,\n",
              " 35,\n",
              " 36,\n",
              " 37,\n",
              " 38,\n",
              " 39,\n",
              " 40,\n",
              " 41,\n",
              " 42,\n",
              " 43,\n",
              " 44,\n",
              " 45,\n",
              " 46,\n",
              " 47,\n",
              " 48,\n",
              " 49,\n",
              " 50,\n",
              " 51,\n",
              " 52,\n",
              " 53,\n",
              " 54,\n",
              " 55,\n",
              " 56,\n",
              " 57,\n",
              " 58,\n",
              " 59,\n",
              " 60,\n",
              " 61,\n",
              " 62,\n",
              " 63,\n",
              " 64,\n",
              " 65,\n",
              " 66,\n",
              " 67,\n",
              " 68,\n",
              " 69,\n",
              " 70,\n",
              " 71,\n",
              " 72,\n",
              " 73,\n",
              " 74,\n",
              " 75,\n",
              " 76,\n",
              " 77,\n",
              " 78,\n",
              " 79,\n",
              " 80,\n",
              " 81,\n",
              " 82,\n",
              " 83,\n",
              " 84,\n",
              " 85,\n",
              " 86,\n",
              " 87,\n",
              " 88,\n",
              " 89,\n",
              " 90,\n",
              " 91,\n",
              " 92,\n",
              " 93,\n",
              " 94,\n",
              " 95,\n",
              " 96,\n",
              " 97,\n",
              " 98,\n",
              " 99]"
            ]
          },
          "metadata": {
            "tags": []
          },
          "execution_count": 44
        }
      ]
    },
    {
      "metadata": {
        "id": "lHBmjRlEjzBH",
        "colab_type": "code",
        "colab": {
          "base_uri": "https://localhost:8080/",
          "height": 54
        },
        "outputId": "2c33541f-8416-42ed-ae8d-bb97463bdeb5"
      },
      "cell_type": "code",
      "source": [
        "a=[i for i in range(100)]\n",
        "print(a)"
      ],
      "execution_count": 45,
      "outputs": [
        {
          "output_type": "stream",
          "text": [
            "[0, 1, 2, 3, 4, 5, 6, 7, 8, 9, 10, 11, 12, 13, 14, 15, 16, 17, 18, 19, 20, 21, 22, 23, 24, 25, 26, 27, 28, 29, 30, 31, 32, 33, 34, 35, 36, 37, 38, 39, 40, 41, 42, 43, 44, 45, 46, 47, 48, 49, 50, 51, 52, 53, 54, 55, 56, 57, 58, 59, 60, 61, 62, 63, 64, 65, 66, 67, 68, 69, 70, 71, 72, 73, 74, 75, 76, 77, 78, 79, 80, 81, 82, 83, 84, 85, 86, 87, 88, 89, 90, 91, 92, 93, 94, 95, 96, 97, 98, 99]\n"
          ],
          "name": "stdout"
        }
      ]
    },
    {
      "metadata": {
        "id": "46mXw_5Rj3PZ",
        "colab_type": "code",
        "colab": {
          "base_uri": "https://localhost:8080/",
          "height": 163
        },
        "outputId": "0c6763d2-b3bd-4541-dd78-af93fbfc1f32"
      },
      "cell_type": "code",
      "source": [
        "print(a=[i for i in range(100)])"
      ],
      "execution_count": 46,
      "outputs": [
        {
          "output_type": "error",
          "ename": "TypeError",
          "evalue": "ignored",
          "traceback": [
            "\u001b[0;31m---------------------------------------------------------------------------\u001b[0m",
            "\u001b[0;31mTypeError\u001b[0m                                 Traceback (most recent call last)",
            "\u001b[0;32m<ipython-input-46-a87001ad9d10>\u001b[0m in \u001b[0;36m<module>\u001b[0;34m()\u001b[0m\n\u001b[0;32m----> 1\u001b[0;31m \u001b[0mprint\u001b[0m\u001b[0;34m(\u001b[0m\u001b[0ma\u001b[0m\u001b[0;34m=\u001b[0m\u001b[0;34m[\u001b[0m\u001b[0mi\u001b[0m \u001b[0;32mfor\u001b[0m \u001b[0mi\u001b[0m \u001b[0;32min\u001b[0m \u001b[0mrange\u001b[0m\u001b[0;34m(\u001b[0m\u001b[0;36m100\u001b[0m\u001b[0;34m)\u001b[0m\u001b[0;34m]\u001b[0m\u001b[0;34m)\u001b[0m\u001b[0;34m\u001b[0m\u001b[0;34m\u001b[0m\u001b[0m\n\u001b[0m",
            "\u001b[0;31mTypeError\u001b[0m: 'a' is an invalid keyword argument for this function"
          ]
        }
      ]
    },
    {
      "metadata": {
        "id": "08bnuxLnkBNX",
        "colab_type": "code",
        "colab": {
          "base_uri": "https://localhost:8080/",
          "height": 54
        },
        "outputId": "b9c9afa4-7c16-4781-9405-610d4a4bc5be"
      },
      "cell_type": "code",
      "source": [
        "print([i for i in range(100)])"
      ],
      "execution_count": 47,
      "outputs": [
        {
          "output_type": "stream",
          "text": [
            "[0, 1, 2, 3, 4, 5, 6, 7, 8, 9, 10, 11, 12, 13, 14, 15, 16, 17, 18, 19, 20, 21, 22, 23, 24, 25, 26, 27, 28, 29, 30, 31, 32, 33, 34, 35, 36, 37, 38, 39, 40, 41, 42, 43, 44, 45, 46, 47, 48, 49, 50, 51, 52, 53, 54, 55, 56, 57, 58, 59, 60, 61, 62, 63, 64, 65, 66, 67, 68, 69, 70, 71, 72, 73, 74, 75, 76, 77, 78, 79, 80, 81, 82, 83, 84, 85, 86, 87, 88, 89, 90, 91, 92, 93, 94, 95, 96, 97, 98, 99]\n"
          ],
          "name": "stdout"
        }
      ]
    },
    {
      "metadata": {
        "id": "9hIlwQswkG0m",
        "colab_type": "code",
        "colab": {
          "base_uri": "https://localhost:8080/",
          "height": 34
        },
        "outputId": "c11499d1-2de1-4e1e-d6b5-14bcbb5c2248"
      },
      "cell_type": "code",
      "source": [
        "[i for i in range(100)][6]"
      ],
      "execution_count": 48,
      "outputs": [
        {
          "output_type": "execute_result",
          "data": {
            "text/plain": [
              "6"
            ]
          },
          "metadata": {
            "tags": []
          },
          "execution_count": 48
        }
      ]
    },
    {
      "metadata": {
        "id": "5UqSfBaTkL2K",
        "colab_type": "code",
        "colab": {
          "base_uri": "https://localhost:8080/",
          "height": 34
        },
        "outputId": "c1c4b2ea-1d2c-4024-fbdb-16e876985986"
      },
      "cell_type": "code",
      "source": [
        "[i for i in range(100)][29]"
      ],
      "execution_count": 49,
      "outputs": [
        {
          "output_type": "execute_result",
          "data": {
            "text/plain": [
              "29"
            ]
          },
          "metadata": {
            "tags": []
          },
          "execution_count": 49
        }
      ]
    },
    {
      "metadata": {
        "id": "biKgGAvSkN1G",
        "colab_type": "code",
        "colab": {
          "base_uri": "https://localhost:8080/",
          "height": 34
        },
        "outputId": "22f6eeb9-a29d-4fe3-ffcd-c5adfaf1a53c"
      },
      "cell_type": "code",
      "source": [
        "[i for i in range(20) if i%2==0]"
      ],
      "execution_count": 50,
      "outputs": [
        {
          "output_type": "execute_result",
          "data": {
            "text/plain": [
              "[0, 2, 4, 6, 8, 10, 12, 14, 16, 18]"
            ]
          },
          "metadata": {
            "tags": []
          },
          "execution_count": 50
        }
      ]
    },
    {
      "metadata": {
        "id": "bK3pmmQpkZZH",
        "colab_type": "code",
        "colab": {
          "base_uri": "https://localhost:8080/",
          "height": 129
        },
        "outputId": "caae8e4c-6324-47b2-968a-985fd65c4b27"
      },
      "cell_type": "code",
      "source": [
        "lst=[]\n",
        "for i in range(20):\n",
        "  if i%==0:\n",
        "    lst.append(i)\n",
        "print(lst)"
      ],
      "execution_count": 51,
      "outputs": [
        {
          "output_type": "error",
          "ename": "SyntaxError",
          "evalue": "ignored",
          "traceback": [
            "\u001b[0;36m  File \u001b[0;32m\"<ipython-input-51-6986bdadad95>\"\u001b[0;36m, line \u001b[0;32m3\u001b[0m\n\u001b[0;31m    if i%==0:\u001b[0m\n\u001b[0m         ^\u001b[0m\n\u001b[0;31mSyntaxError\u001b[0m\u001b[0;31m:\u001b[0m invalid syntax\n"
          ]
        }
      ]
    },
    {
      "metadata": {
        "id": "_mPjK3A6kzuv",
        "colab_type": "code",
        "colab": {
          "base_uri": "https://localhost:8080/",
          "height": 34
        },
        "outputId": "20dac8b9-3bae-4b70-9695-3dc1d4a6879b"
      },
      "cell_type": "code",
      "source": [
        "lst=[]\n",
        "for i in range(20):\n",
        "  if i%2==0:\n",
        "    lst.append(i)\n",
        "print(lst)"
      ],
      "execution_count": 52,
      "outputs": [
        {
          "output_type": "stream",
          "text": [
            "[0, 2, 4, 6, 8, 10, 12, 14, 16, 18]\n"
          ],
          "name": "stdout"
        }
      ]
    },
    {
      "metadata": {
        "id": "z_ctAewOlC2E",
        "colab_type": "code",
        "colab": {
          "base_uri": "https://localhost:8080/",
          "height": 34
        },
        "outputId": "2a7a4b81-539d-4e44-97e1-ee95e8633f6f"
      },
      "cell_type": "code",
      "source": [
        "for i in range(20):\n",
        "  if i%2==0:\n",
        "    lst.append(i)\n",
        "print(lst)"
      ],
      "execution_count": 53,
      "outputs": [
        {
          "output_type": "stream",
          "text": [
            "[0, 2, 4, 6, 8, 10, 12, 14, 16, 18, 0, 2, 4, 6, 8, 10, 12, 14, 16, 18]\n"
          ],
          "name": "stdout"
        }
      ]
    },
    {
      "metadata": {
        "id": "u_WIGQzllHhm",
        "colab_type": "code",
        "colab": {
          "base_uri": "https://localhost:8080/",
          "height": 34
        },
        "outputId": "ad0e1637-7c7e-481b-c166-b5b36931868b"
      },
      "cell_type": "code",
      "source": [
        "['yes' for i in range(1) if 0>1]"
      ],
      "execution_count": 54,
      "outputs": [
        {
          "output_type": "execute_result",
          "data": {
            "text/plain": [
              "[]"
            ]
          },
          "metadata": {
            "tags": []
          },
          "execution_count": 54
        }
      ]
    },
    {
      "metadata": {
        "id": "Jy6vpe5_lNsN",
        "colab_type": "code",
        "colab": {
          "base_uri": "https://localhost:8080/",
          "height": 34
        },
        "outputId": "f36e2abf-a8cf-4d75-d43a-d84d3fd3c0c5"
      },
      "cell_type": "code",
      "source": [
        "['yes' for i in range(1) if 0<1]"
      ],
      "execution_count": 55,
      "outputs": [
        {
          "output_type": "execute_result",
          "data": {
            "text/plain": [
              "['yes']"
            ]
          },
          "metadata": {
            "tags": []
          },
          "execution_count": 55
        }
      ]
    },
    {
      "metadata": {
        "id": "zvB7XqS7lRPC",
        "colab_type": "code",
        "colab": {
          "base_uri": "https://localhost:8080/",
          "height": 34
        },
        "outputId": "db18dac8-b9ca-45ec-e71d-ecb3deb1c26e"
      },
      "cell_type": "code",
      "source": [
        "lst_lst=[[1,2,3], [1,2,3,4],['yes','no']]\n",
        "lst_lst"
      ],
      "execution_count": 56,
      "outputs": [
        {
          "output_type": "execute_result",
          "data": {
            "text/plain": [
              "[[1, 2, 3], [1, 2, 3, 4], ['yes', 'no']]"
            ]
          },
          "metadata": {
            "tags": []
          },
          "execution_count": 56
        }
      ]
    },
    {
      "metadata": {
        "id": "iyfko8N4lfVj",
        "colab_type": "code",
        "colab": {
          "base_uri": "https://localhost:8080/",
          "height": 129
        },
        "outputId": "672893e2-4e7b-4e2b-9297-b8c401ccb07c"
      },
      "cell_type": "code",
      "source": [
        "q=[]\n",
        "for i in lst_lst\n",
        "  for j in i: # inner loop\n",
        "    q.append(j)\n",
        "    print(q)"
      ],
      "execution_count": 57,
      "outputs": [
        {
          "output_type": "error",
          "ename": "SyntaxError",
          "evalue": "ignored",
          "traceback": [
            "\u001b[0;36m  File \u001b[0;32m\"<ipython-input-57-e9af469ad57b>\"\u001b[0;36m, line \u001b[0;32m2\u001b[0m\n\u001b[0;31m    for i in lst_lst\u001b[0m\n\u001b[0m                    ^\u001b[0m\n\u001b[0;31mSyntaxError\u001b[0m\u001b[0;31m:\u001b[0m invalid syntax\n"
          ]
        }
      ]
    },
    {
      "metadata": {
        "id": "Xfb_Ez3fl3iN",
        "colab_type": "code",
        "colab": {
          "base_uri": "https://localhost:8080/",
          "height": 170
        },
        "outputId": "c62cecef-9de1-456f-cb38-3fc79d7d7cac"
      },
      "cell_type": "code",
      "source": [
        "q=[]\n",
        "for i in lst_lst:\n",
        "  for j in i: # inner loop\n",
        "    q.append(j)\n",
        "    print(q)"
      ],
      "execution_count": 58,
      "outputs": [
        {
          "output_type": "stream",
          "text": [
            "[1]\n",
            "[1, 2]\n",
            "[1, 2, 3]\n",
            "[1, 2, 3, 1]\n",
            "[1, 2, 3, 1, 2]\n",
            "[1, 2, 3, 1, 2, 3]\n",
            "[1, 2, 3, 1, 2, 3, 4]\n",
            "[1, 2, 3, 1, 2, 3, 4, 'yes']\n",
            "[1, 2, 3, 1, 2, 3, 4, 'yes', 'no']\n"
          ],
          "name": "stdout"
        }
      ]
    },
    {
      "metadata": {
        "id": "Lf_8IvHpl6nG",
        "colab_type": "code",
        "colab": {
          "base_uri": "https://localhost:8080/",
          "height": 34
        },
        "outputId": "ecb753ce-ae1f-4d47-aec6-4f8a83eace69"
      },
      "cell_type": "code",
      "source": [
        "q=[]\n",
        "for i in lst_lst:\n",
        "  for j in i: # inner loop\n",
        "    q.append(j)\n",
        "print(q)"
      ],
      "execution_count": 59,
      "outputs": [
        {
          "output_type": "stream",
          "text": [
            "[1, 2, 3, 1, 2, 3, 4, 'yes', 'no']\n"
          ],
          "name": "stdout"
        }
      ]
    },
    {
      "metadata": {
        "id": "qZCbgWwfl-Ho",
        "colab_type": "code",
        "colab": {
          "base_uri": "https://localhost:8080/",
          "height": 34
        },
        "outputId": "5b23b2f8-fdaa-4765-d757-53ad14952892"
      },
      "cell_type": "code",
      "source": [
        "#list comprehension for the samez thing above\n",
        "print([j for i in lst_lst for j in i])"
      ],
      "execution_count": 60,
      "outputs": [
        {
          "output_type": "stream",
          "text": [
            "[1, 2, 3, 1, 2, 3, 4, 'yes', 'no']\n"
          ],
          "name": "stdout"
        }
      ]
    },
    {
      "metadata": {
        "id": "SM8MokmymI0E",
        "colab_type": "code",
        "colab": {
          "base_uri": "https://localhost:8080/",
          "height": 34
        },
        "outputId": "f314dd02-584c-4e5e-8a3f-a87e4f92a779"
      },
      "cell_type": "code",
      "source": [
        "q=[] #we want to obtain a list from a list where the number of elments is more than 3\n",
        "for i in lst_lst:\n",
        "  if len(i)>2:\n",
        "    for j in i:\n",
        "      q.append(j)\n",
        "print(q)"
      ],
      "execution_count": 61,
      "outputs": [
        {
          "output_type": "stream",
          "text": [
            "[1, 2, 3, 1, 2, 3, 4]\n"
          ],
          "name": "stdout"
        }
      ]
    },
    {
      "metadata": {
        "id": "F0STzhcRnVSt",
        "colab_type": "code",
        "colab": {
          "base_uri": "https://localhost:8080/",
          "height": 214
        },
        "outputId": "9eddadd7-8cb0-4494-d3a5-c2f698ba875c"
      },
      "cell_type": "code",
      "source": [
        "q=[] #we want to obtain a list from a list where the number of elments is more than 3\n",
        "for horse in lst_lst:\n",
        "  if len(horse)>2:\n",
        "    for j in i:\n",
        "      q.append(apple)\n",
        "print(q)"
      ],
      "execution_count": 62,
      "outputs": [
        {
          "output_type": "error",
          "ename": "NameError",
          "evalue": "ignored",
          "traceback": [
            "\u001b[0;31m---------------------------------------------------------------------------\u001b[0m",
            "\u001b[0;31mNameError\u001b[0m                                 Traceback (most recent call last)",
            "\u001b[0;32m<ipython-input-62-26e89a93211b>\u001b[0m in \u001b[0;36m<module>\u001b[0;34m()\u001b[0m\n\u001b[1;32m      3\u001b[0m   \u001b[0;32mif\u001b[0m \u001b[0mlen\u001b[0m\u001b[0;34m(\u001b[0m\u001b[0mhorse\u001b[0m\u001b[0;34m)\u001b[0m\u001b[0;34m>\u001b[0m\u001b[0;36m2\u001b[0m\u001b[0;34m:\u001b[0m\u001b[0;34m\u001b[0m\u001b[0;34m\u001b[0m\u001b[0m\n\u001b[1;32m      4\u001b[0m     \u001b[0;32mfor\u001b[0m \u001b[0mj\u001b[0m \u001b[0;32min\u001b[0m \u001b[0mi\u001b[0m\u001b[0;34m:\u001b[0m\u001b[0;34m\u001b[0m\u001b[0;34m\u001b[0m\u001b[0m\n\u001b[0;32m----> 5\u001b[0;31m       \u001b[0mq\u001b[0m\u001b[0;34m.\u001b[0m\u001b[0mappend\u001b[0m\u001b[0;34m(\u001b[0m\u001b[0mapple\u001b[0m\u001b[0;34m)\u001b[0m\u001b[0;34m\u001b[0m\u001b[0;34m\u001b[0m\u001b[0m\n\u001b[0m\u001b[1;32m      6\u001b[0m \u001b[0mprint\u001b[0m\u001b[0;34m(\u001b[0m\u001b[0mq\u001b[0m\u001b[0;34m)\u001b[0m\u001b[0;34m\u001b[0m\u001b[0;34m\u001b[0m\u001b[0m\n",
            "\u001b[0;31mNameError\u001b[0m: name 'apple' is not defined"
          ]
        }
      ]
    },
    {
      "metadata": {
        "id": "Hpw_7GH0nbDU",
        "colab_type": "code",
        "colab": {
          "base_uri": "https://localhost:8080/",
          "height": 34
        },
        "outputId": "1082be07-2f2c-4bd1-afa6-5162dc8a846e"
      },
      "cell_type": "code",
      "source": [
        "q=[] #we want to obtain a list from a list where the number of elments is more than 3\n",
        "for horse in lst_lst:\n",
        "  if len(horse)>2:\n",
        "    for apple in i:\n",
        "      q.append(apple)\n",
        "print(q)"
      ],
      "execution_count": 63,
      "outputs": [
        {
          "output_type": "stream",
          "text": [
            "['yes', 'no', 'yes', 'no']\n"
          ],
          "name": "stdout"
        }
      ]
    },
    {
      "metadata": {
        "id": "ib3I-l81noBN",
        "colab_type": "code",
        "colab": {
          "base_uri": "https://localhost:8080/",
          "height": 34
        },
        "outputId": "ad45bb46-164f-4a9f-dcb4-93f72bb5bb6c"
      },
      "cell_type": "code",
      "source": [
        "q=[] #we want to obtain a list from a list where the number of elments is more than 3\n",
        "for horse in lst_lst:\n",
        "  if len(horse)>2:\n",
        "    for apple in horse:\n",
        "      q.append(apple)\n",
        "print(q)"
      ],
      "execution_count": 64,
      "outputs": [
        {
          "output_type": "stream",
          "text": [
            "[1, 2, 3, 1, 2, 3, 4]\n"
          ],
          "name": "stdout"
        }
      ]
    },
    {
      "metadata": {
        "id": "4R1p42Nhn1cu",
        "colab_type": "code",
        "colab": {
          "base_uri": "https://localhost:8080/",
          "height": 34
        },
        "outputId": "52bf4d83-3b80-43c6-a70f-d105fe722f76"
      },
      "cell_type": "code",
      "source": [
        "w=[j for i in lst_lst if len(i)>2 for j in i]\n",
        "print(w)"
      ],
      "execution_count": 65,
      "outputs": [
        {
          "output_type": "stream",
          "text": [
            "[1, 2, 3, 1, 2, 3, 4]\n"
          ],
          "name": "stdout"
        }
      ]
    },
    {
      "metadata": {
        "id": "gxQht0TeoPT-",
        "colab_type": "code",
        "colab": {
          "base_uri": "https://localhost:8080/",
          "height": 34
        },
        "outputId": "29b1c545-8343-4eaa-d2d6-accd8f3d97bd"
      },
      "cell_type": "code",
      "source": [
        "lst_lst"
      ],
      "execution_count": 66,
      "outputs": [
        {
          "output_type": "execute_result",
          "data": {
            "text/plain": [
              "[[1, 2, 3], [1, 2, 3, 4], ['yes', 'no']]"
            ]
          },
          "metadata": {
            "tags": []
          },
          "execution_count": 66
        }
      ]
    },
    {
      "metadata": {
        "id": "Rkf1T9qUoR2S",
        "colab_type": "code",
        "colab": {
          "base_uri": "https://localhost:8080/",
          "height": 34
        },
        "outputId": "69db240a-79df-4aa0-c902-6f9b5e018263"
      },
      "cell_type": "code",
      "source": [
        "lst_lst[0]"
      ],
      "execution_count": 67,
      "outputs": [
        {
          "output_type": "execute_result",
          "data": {
            "text/plain": [
              "[1, 2, 3]"
            ]
          },
          "metadata": {
            "tags": []
          },
          "execution_count": 67
        }
      ]
    },
    {
      "metadata": {
        "id": "cxGWoDk5oUIh",
        "colab_type": "code",
        "colab": {
          "base_uri": "https://localhost:8080/",
          "height": 34
        },
        "outputId": "61596c95-1d4f-4306-e56c-cd0521e1e485"
      },
      "cell_type": "code",
      "source": [
        "len(lst_lst[0])"
      ],
      "execution_count": 68,
      "outputs": [
        {
          "output_type": "execute_result",
          "data": {
            "text/plain": [
              "3"
            ]
          },
          "metadata": {
            "tags": []
          },
          "execution_count": 68
        }
      ]
    },
    {
      "metadata": {
        "id": "-8J12Kcgm6VH",
        "colab_type": "code",
        "colab": {
          "base_uri": "https://localhost:8080/",
          "height": 129
        },
        "outputId": "3deba071-349c-45a2-8775-46d67dbeff21"
      },
      "cell_type": "code",
      "source": [
        "q=[]\n",
        "for i in lst_lst:\n",
        "  if len(i)==3:\n",
        "    for j in i:\n",
        "      q.append(j+1)\n",
        "    elif len(i) in i:\n",
        "      q.append(j**2)\n",
        "    else:\n",
        "      for j in i:\n",
        "        q.append(j)\n",
        "        \n",
        "print(q)"
      ],
      "execution_count": 69,
      "outputs": [
        {
          "output_type": "error",
          "ename": "SyntaxError",
          "evalue": "ignored",
          "traceback": [
            "\u001b[0;36m  File \u001b[0;32m\"<ipython-input-69-e8f7574bc4f1>\"\u001b[0;36m, line \u001b[0;32m6\u001b[0m\n\u001b[0;31m    elif len(i) in i:\u001b[0m\n\u001b[0m       ^\u001b[0m\n\u001b[0;31mSyntaxError\u001b[0m\u001b[0;31m:\u001b[0m invalid syntax\n"
          ]
        }
      ]
    },
    {
      "metadata": {
        "id": "nOHwjCyCqiJK",
        "colab_type": "code",
        "colab": {
          "base_uri": "https://localhost:8080/",
          "height": 34
        },
        "outputId": "b9c8446e-2ac7-459c-b8e9-1b711c09f3af"
      },
      "cell_type": "code",
      "source": [
        "q=[]\n",
        "for i in lst_lst:\n",
        "  if len(i)==3:\n",
        "    for j in i:\n",
        "      q.append(j+1)\n",
        "  elif len(i) in i:\n",
        "      q.append(j**2)\n",
        "  else:\n",
        "      for j in i:\n",
        "        q.append(j)\n",
        "        \n",
        "print(q)"
      ],
      "execution_count": 70,
      "outputs": [
        {
          "output_type": "stream",
          "text": [
            "[2, 3, 4, 9, 'yes', 'no']\n"
          ],
          "name": "stdout"
        }
      ]
    },
    {
      "metadata": {
        "id": "li_ZRyQcqlcy",
        "colab_type": "code",
        "colab": {
          "base_uri": "https://localhost:8080/",
          "height": 34
        },
        "outputId": "fb1fe651-c7bc-40f8-e779-b15227c89318"
      },
      "cell_type": "code",
      "source": [
        "q=[]\n",
        "for i in lst_lst:\n",
        "  if len(i)==3:\n",
        "    for j in i:\n",
        "      q.append(j+1)\n",
        "  elif len(i)>3:\n",
        "    for j in i:\n",
        "      q.append(j**2)\n",
        "  else:\n",
        "      for j in i:\n",
        "        q.append(j)\n",
        "        \n",
        "print(q)"
      ],
      "execution_count": 71,
      "outputs": [
        {
          "output_type": "stream",
          "text": [
            "[2, 3, 4, 1, 4, 9, 16, 'yes', 'no']\n"
          ],
          "name": "stdout"
        }
      ]
    },
    {
      "metadata": {
        "id": "uieMj7GSqxDI",
        "colab_type": "code",
        "colab": {
          "base_uri": "https://localhost:8080/",
          "height": 34
        },
        "outputId": "fb1acb0e-44dd-4190-bb33-df909629ebb7"
      },
      "cell_type": "code",
      "source": [
        "w=[j+1 if len(i)==3 else j**2 if len(i)>3 else j for i in lst_lst for j in i]\n",
        "print(w)"
      ],
      "execution_count": 72,
      "outputs": [
        {
          "output_type": "stream",
          "text": [
            "[2, 3, 4, 1, 4, 9, 16, 'yes', 'no']\n"
          ],
          "name": "stdout"
        }
      ]
    },
    {
      "metadata": {
        "id": "2Ri4caFBrgDC",
        "colab_type": "code",
        "colab": {
          "base_uri": "https://localhost:8080/",
          "height": 34
        },
        "outputId": "64f2dc67-5e29-4da9-e47c-8e3673efea1c"
      },
      "cell_type": "code",
      "source": [
        "w=[j+1 if len(i)==3 else j**2 if len(i)>3 else 'Hello' if j ==\"no\" else j for i in lst_lst for j in i]\n",
        "print(w)"
      ],
      "execution_count": 73,
      "outputs": [
        {
          "output_type": "stream",
          "text": [
            "[2, 3, 4, 1, 4, 9, 16, 'yes', 'Hello']\n"
          ],
          "name": "stdout"
        }
      ]
    },
    {
      "metadata": {
        "id": "9_OmCm8irtH6",
        "colab_type": "code",
        "colab": {}
      },
      "cell_type": "code",
      "source": [
        "import pandas as pd\n",
        "import numpy as np"
      ],
      "execution_count": 0,
      "outputs": []
    },
    {
      "metadata": {
        "id": "tzAc0uz8snsL",
        "colab_type": "code",
        "colab": {
          "base_uri": "https://localhost:8080/",
          "height": 204
        },
        "outputId": "075506b6-f68a-4e2b-c611-199da276da99"
      },
      "cell_type": "code",
      "source": [
        "#Series\n",
        "a=pd.Series(np.random.random(10))\n",
        "print(a)"
      ],
      "execution_count": 75,
      "outputs": [
        {
          "output_type": "stream",
          "text": [
            "0    0.421437\n",
            "1    0.427497\n",
            "2    0.683578\n",
            "3    0.348023\n",
            "4    0.338491\n",
            "5    0.494058\n",
            "6    0.319980\n",
            "7    0.814594\n",
            "8    0.510608\n",
            "9    0.764728\n",
            "dtype: float64\n"
          ],
          "name": "stdout"
        }
      ]
    },
    {
      "metadata": {
        "id": "fG5Y3OiPsvRl",
        "colab_type": "code",
        "colab": {
          "base_uri": "https://localhost:8080/",
          "height": 359
        },
        "outputId": "8d9c50a6-b639-4a92-ce4f-23816ee71ae2"
      },
      "cell_type": "code",
      "source": [
        "#DataFrame\n",
        "df=pd.DataFrame(np.random.random((10,5)))\n",
        "df"
      ],
      "execution_count": 76,
      "outputs": [
        {
          "output_type": "execute_result",
          "data": {
            "text/html": [
              "<div>\n",
              "<style scoped>\n",
              "    .dataframe tbody tr th:only-of-type {\n",
              "        vertical-align: middle;\n",
              "    }\n",
              "\n",
              "    .dataframe tbody tr th {\n",
              "        vertical-align: top;\n",
              "    }\n",
              "\n",
              "    .dataframe thead th {\n",
              "        text-align: right;\n",
              "    }\n",
              "</style>\n",
              "<table border=\"1\" class=\"dataframe\">\n",
              "  <thead>\n",
              "    <tr style=\"text-align: right;\">\n",
              "      <th></th>\n",
              "      <th>0</th>\n",
              "      <th>1</th>\n",
              "      <th>2</th>\n",
              "      <th>3</th>\n",
              "      <th>4</th>\n",
              "    </tr>\n",
              "  </thead>\n",
              "  <tbody>\n",
              "    <tr>\n",
              "      <th>0</th>\n",
              "      <td>0.006928</td>\n",
              "      <td>0.565158</td>\n",
              "      <td>0.066685</td>\n",
              "      <td>0.038711</td>\n",
              "      <td>0.887233</td>\n",
              "    </tr>\n",
              "    <tr>\n",
              "      <th>1</th>\n",
              "      <td>0.984209</td>\n",
              "      <td>0.082947</td>\n",
              "      <td>0.182798</td>\n",
              "      <td>0.642191</td>\n",
              "      <td>0.613324</td>\n",
              "    </tr>\n",
              "    <tr>\n",
              "      <th>2</th>\n",
              "      <td>0.435900</td>\n",
              "      <td>0.342705</td>\n",
              "      <td>0.294010</td>\n",
              "      <td>0.007224</td>\n",
              "      <td>0.869676</td>\n",
              "    </tr>\n",
              "    <tr>\n",
              "      <th>3</th>\n",
              "      <td>0.747474</td>\n",
              "      <td>0.012465</td>\n",
              "      <td>0.902405</td>\n",
              "      <td>0.376739</td>\n",
              "      <td>0.641380</td>\n",
              "    </tr>\n",
              "    <tr>\n",
              "      <th>4</th>\n",
              "      <td>0.163310</td>\n",
              "      <td>0.888483</td>\n",
              "      <td>0.668415</td>\n",
              "      <td>0.492412</td>\n",
              "      <td>0.031709</td>\n",
              "    </tr>\n",
              "    <tr>\n",
              "      <th>5</th>\n",
              "      <td>0.969189</td>\n",
              "      <td>0.524448</td>\n",
              "      <td>0.451869</td>\n",
              "      <td>0.187507</td>\n",
              "      <td>0.582347</td>\n",
              "    </tr>\n",
              "    <tr>\n",
              "      <th>6</th>\n",
              "      <td>0.555986</td>\n",
              "      <td>0.992740</td>\n",
              "      <td>0.450484</td>\n",
              "      <td>0.304218</td>\n",
              "      <td>0.551904</td>\n",
              "    </tr>\n",
              "    <tr>\n",
              "      <th>7</th>\n",
              "      <td>0.385299</td>\n",
              "      <td>0.242097</td>\n",
              "      <td>0.381996</td>\n",
              "      <td>0.815196</td>\n",
              "      <td>0.066477</td>\n",
              "    </tr>\n",
              "    <tr>\n",
              "      <th>8</th>\n",
              "      <td>0.672586</td>\n",
              "      <td>0.575193</td>\n",
              "      <td>0.251074</td>\n",
              "      <td>0.307719</td>\n",
              "      <td>0.222801</td>\n",
              "    </tr>\n",
              "    <tr>\n",
              "      <th>9</th>\n",
              "      <td>0.300547</td>\n",
              "      <td>0.106535</td>\n",
              "      <td>0.449274</td>\n",
              "      <td>0.361203</td>\n",
              "      <td>0.751670</td>\n",
              "    </tr>\n",
              "  </tbody>\n",
              "</table>\n",
              "</div>"
            ],
            "text/plain": [
              "          0         1         2         3         4\n",
              "0  0.006928  0.565158  0.066685  0.038711  0.887233\n",
              "1  0.984209  0.082947  0.182798  0.642191  0.613324\n",
              "2  0.435900  0.342705  0.294010  0.007224  0.869676\n",
              "3  0.747474  0.012465  0.902405  0.376739  0.641380\n",
              "4  0.163310  0.888483  0.668415  0.492412  0.031709\n",
              "5  0.969189  0.524448  0.451869  0.187507  0.582347\n",
              "6  0.555986  0.992740  0.450484  0.304218  0.551904\n",
              "7  0.385299  0.242097  0.381996  0.815196  0.066477\n",
              "8  0.672586  0.575193  0.251074  0.307719  0.222801\n",
              "9  0.300547  0.106535  0.449274  0.361203  0.751670"
            ]
          },
          "metadata": {
            "tags": []
          },
          "execution_count": 76
        }
      ]
    },
    {
      "metadata": {
        "id": "MSoMb6WUtNWj",
        "colab_type": "code",
        "colab": {
          "base_uri": "https://localhost:8080/",
          "height": 204
        },
        "outputId": "7e3caf46-048a-4ddb-e834-877d34ef6d06"
      },
      "cell_type": "code",
      "source": [
        "#DataFrame\n",
        "df=pd.DataFrame(np.random.random((10,5)))\n",
        "print(df)"
      ],
      "execution_count": 77,
      "outputs": [
        {
          "output_type": "stream",
          "text": [
            "          0         1         2         3         4\n",
            "0  0.431435  0.036858  0.909929  0.834439  0.487001\n",
            "1  0.061218  0.328204  0.249781  0.137870  0.034121\n",
            "2  0.111217  0.456992  0.020427  0.140450  0.552620\n",
            "3  0.326609  0.598955  0.873823  0.652102  0.527238\n",
            "4  0.464001  0.164766  0.783694  0.606092  0.351349\n",
            "5  0.967001  0.519913  0.442058  0.193771  0.530693\n",
            "6  0.209684  0.279616  0.854151  0.540982  0.179508\n",
            "7  0.165466  0.435359  0.470816  0.119703  0.504480\n",
            "8  0.342219  0.155441  0.895956  0.463527  0.964609\n",
            "9  0.802173  0.740944  0.405086  0.031698  0.619427\n"
          ],
          "name": "stdout"
        }
      ]
    },
    {
      "metadata": {
        "id": "kUvuoA9Ztaye",
        "colab_type": "code",
        "colab": {
          "base_uri": "https://localhost:8080/",
          "height": 142
        },
        "outputId": "3cd42541-ed2c-4a78-e079-89558b2a4491"
      },
      "cell_type": "code",
      "source": [
        "l=[1,2,3]\n",
        "df=pd.DataFrame(l)\n",
        "df"
      ],
      "execution_count": 78,
      "outputs": [
        {
          "output_type": "execute_result",
          "data": {
            "text/html": [
              "<div>\n",
              "<style scoped>\n",
              "    .dataframe tbody tr th:only-of-type {\n",
              "        vertical-align: middle;\n",
              "    }\n",
              "\n",
              "    .dataframe tbody tr th {\n",
              "        vertical-align: top;\n",
              "    }\n",
              "\n",
              "    .dataframe thead th {\n",
              "        text-align: right;\n",
              "    }\n",
              "</style>\n",
              "<table border=\"1\" class=\"dataframe\">\n",
              "  <thead>\n",
              "    <tr style=\"text-align: right;\">\n",
              "      <th></th>\n",
              "      <th>0</th>\n",
              "    </tr>\n",
              "  </thead>\n",
              "  <tbody>\n",
              "    <tr>\n",
              "      <th>0</th>\n",
              "      <td>1</td>\n",
              "    </tr>\n",
              "    <tr>\n",
              "      <th>1</th>\n",
              "      <td>2</td>\n",
              "    </tr>\n",
              "    <tr>\n",
              "      <th>2</th>\n",
              "      <td>3</td>\n",
              "    </tr>\n",
              "  </tbody>\n",
              "</table>\n",
              "</div>"
            ],
            "text/plain": [
              "   0\n",
              "0  1\n",
              "1  2\n",
              "2  3"
            ]
          },
          "metadata": {
            "tags": []
          },
          "execution_count": 78
        }
      ]
    },
    {
      "metadata": {
        "id": "K9NB7YIovAxZ",
        "colab_type": "code",
        "colab": {
          "base_uri": "https://localhost:8080/",
          "height": 142
        },
        "outputId": "5ad6e18a-f910-416d-9b97-ee0c0ac3b593"
      },
      "cell_type": "code",
      "source": [
        "l=[1,2,3]\n",
        "df=pd.DataFrame(l,columns=['col1'])\n",
        "df"
      ],
      "execution_count": 79,
      "outputs": [
        {
          "output_type": "execute_result",
          "data": {
            "text/html": [
              "<div>\n",
              "<style scoped>\n",
              "    .dataframe tbody tr th:only-of-type {\n",
              "        vertical-align: middle;\n",
              "    }\n",
              "\n",
              "    .dataframe tbody tr th {\n",
              "        vertical-align: top;\n",
              "    }\n",
              "\n",
              "    .dataframe thead th {\n",
              "        text-align: right;\n",
              "    }\n",
              "</style>\n",
              "<table border=\"1\" class=\"dataframe\">\n",
              "  <thead>\n",
              "    <tr style=\"text-align: right;\">\n",
              "      <th></th>\n",
              "      <th>col1</th>\n",
              "    </tr>\n",
              "  </thead>\n",
              "  <tbody>\n",
              "    <tr>\n",
              "      <th>0</th>\n",
              "      <td>1</td>\n",
              "    </tr>\n",
              "    <tr>\n",
              "      <th>1</th>\n",
              "      <td>2</td>\n",
              "    </tr>\n",
              "    <tr>\n",
              "      <th>2</th>\n",
              "      <td>3</td>\n",
              "    </tr>\n",
              "  </tbody>\n",
              "</table>\n",
              "</div>"
            ],
            "text/plain": [
              "   col1\n",
              "0     1\n",
              "1     2\n",
              "2     3"
            ]
          },
          "metadata": {
            "tags": []
          },
          "execution_count": 79
        }
      ]
    },
    {
      "metadata": {
        "id": "frWR2K3MvGZp",
        "colab_type": "code",
        "colab": {
          "base_uri": "https://localhost:8080/",
          "height": 34
        },
        "outputId": "c568295d-02e2-4846-a433-b7e1c77c6568"
      },
      "cell_type": "code",
      "source": [
        "l=[1,2,3]\n",
        "df=pd.DataFrame(l,columns=['col1'])\n",
        "df.col1[1]"
      ],
      "execution_count": 80,
      "outputs": [
        {
          "output_type": "execute_result",
          "data": {
            "text/plain": [
              "2"
            ]
          },
          "metadata": {
            "tags": []
          },
          "execution_count": 80
        }
      ]
    },
    {
      "metadata": {
        "id": "B5Hzk4PZvKVz",
        "colab_type": "code",
        "colab": {
          "base_uri": "https://localhost:8080/",
          "height": 34
        },
        "outputId": "a540396d-e6e4-44bb-aa47-e82e0a040f6a"
      },
      "cell_type": "code",
      "source": [
        "lst_lst"
      ],
      "execution_count": 81,
      "outputs": [
        {
          "output_type": "execute_result",
          "data": {
            "text/plain": [
              "[[1, 2, 3], [1, 2, 3, 4], ['yes', 'no']]"
            ]
          },
          "metadata": {
            "tags": []
          },
          "execution_count": 81
        }
      ]
    },
    {
      "metadata": {
        "id": "KDTBU-MtvNQc",
        "colab_type": "code",
        "colab": {
          "base_uri": "https://localhost:8080/",
          "height": 142
        },
        "outputId": "9bbc0a9e-dbbb-41d3-91c9-5ecfbf8a2876"
      },
      "cell_type": "code",
      "source": [
        "df=pd.DataFrame(lst_lst)\n",
        "df"
      ],
      "execution_count": 82,
      "outputs": [
        {
          "output_type": "execute_result",
          "data": {
            "text/html": [
              "<div>\n",
              "<style scoped>\n",
              "    .dataframe tbody tr th:only-of-type {\n",
              "        vertical-align: middle;\n",
              "    }\n",
              "\n",
              "    .dataframe tbody tr th {\n",
              "        vertical-align: top;\n",
              "    }\n",
              "\n",
              "    .dataframe thead th {\n",
              "        text-align: right;\n",
              "    }\n",
              "</style>\n",
              "<table border=\"1\" class=\"dataframe\">\n",
              "  <thead>\n",
              "    <tr style=\"text-align: right;\">\n",
              "      <th></th>\n",
              "      <th>0</th>\n",
              "      <th>1</th>\n",
              "      <th>2</th>\n",
              "      <th>3</th>\n",
              "    </tr>\n",
              "  </thead>\n",
              "  <tbody>\n",
              "    <tr>\n",
              "      <th>0</th>\n",
              "      <td>1</td>\n",
              "      <td>2</td>\n",
              "      <td>3.0</td>\n",
              "      <td>NaN</td>\n",
              "    </tr>\n",
              "    <tr>\n",
              "      <th>1</th>\n",
              "      <td>1</td>\n",
              "      <td>2</td>\n",
              "      <td>3.0</td>\n",
              "      <td>4.0</td>\n",
              "    </tr>\n",
              "    <tr>\n",
              "      <th>2</th>\n",
              "      <td>yes</td>\n",
              "      <td>no</td>\n",
              "      <td>NaN</td>\n",
              "      <td>NaN</td>\n",
              "    </tr>\n",
              "  </tbody>\n",
              "</table>\n",
              "</div>"
            ],
            "text/plain": [
              "     0   1    2    3\n",
              "0    1   2  3.0  NaN\n",
              "1    1   2  3.0  4.0\n",
              "2  yes  no  NaN  NaN"
            ]
          },
          "metadata": {
            "tags": []
          },
          "execution_count": 82
        }
      ]
    },
    {
      "metadata": {
        "id": "Ce2DT7l-vV_p",
        "colab_type": "code",
        "colab": {
          "base_uri": "https://localhost:8080/",
          "height": 142
        },
        "outputId": "a8ae6493-16da-4025-ece7-3e0e45ae5878"
      },
      "cell_type": "code",
      "source": [
        "df=pd.DataFrame(lst_lst, columns=['col1','col2','col3','col4'])\n",
        "df"
      ],
      "execution_count": 83,
      "outputs": [
        {
          "output_type": "execute_result",
          "data": {
            "text/html": [
              "<div>\n",
              "<style scoped>\n",
              "    .dataframe tbody tr th:only-of-type {\n",
              "        vertical-align: middle;\n",
              "    }\n",
              "\n",
              "    .dataframe tbody tr th {\n",
              "        vertical-align: top;\n",
              "    }\n",
              "\n",
              "    .dataframe thead th {\n",
              "        text-align: right;\n",
              "    }\n",
              "</style>\n",
              "<table border=\"1\" class=\"dataframe\">\n",
              "  <thead>\n",
              "    <tr style=\"text-align: right;\">\n",
              "      <th></th>\n",
              "      <th>col1</th>\n",
              "      <th>col2</th>\n",
              "      <th>col3</th>\n",
              "      <th>col4</th>\n",
              "    </tr>\n",
              "  </thead>\n",
              "  <tbody>\n",
              "    <tr>\n",
              "      <th>0</th>\n",
              "      <td>1</td>\n",
              "      <td>2</td>\n",
              "      <td>3.0</td>\n",
              "      <td>NaN</td>\n",
              "    </tr>\n",
              "    <tr>\n",
              "      <th>1</th>\n",
              "      <td>1</td>\n",
              "      <td>2</td>\n",
              "      <td>3.0</td>\n",
              "      <td>4.0</td>\n",
              "    </tr>\n",
              "    <tr>\n",
              "      <th>2</th>\n",
              "      <td>yes</td>\n",
              "      <td>no</td>\n",
              "      <td>NaN</td>\n",
              "      <td>NaN</td>\n",
              "    </tr>\n",
              "  </tbody>\n",
              "</table>\n",
              "</div>"
            ],
            "text/plain": [
              "  col1 col2  col3  col4\n",
              "0    1    2   3.0   NaN\n",
              "1    1    2   3.0   4.0\n",
              "2  yes   no   NaN   NaN"
            ]
          },
          "metadata": {
            "tags": []
          },
          "execution_count": 83
        }
      ]
    },
    {
      "metadata": {
        "id": "tK8tdCjyvj7m",
        "colab_type": "code",
        "colab": {
          "base_uri": "https://localhost:8080/",
          "height": 85
        },
        "outputId": "9602e3f5-4a24-4b1d-b354-abad42400ecc"
      },
      "cell_type": "code",
      "source": [
        "df=pd.DataFrame(lst_lst, columns=['col1','col2','col3','col4'])\n",
        "df.col4"
      ],
      "execution_count": 84,
      "outputs": [
        {
          "output_type": "execute_result",
          "data": {
            "text/plain": [
              "0    NaN\n",
              "1    4.0\n",
              "2    NaN\n",
              "Name: col4, dtype: float64"
            ]
          },
          "metadata": {
            "tags": []
          },
          "execution_count": 84
        }
      ]
    },
    {
      "metadata": {
        "id": "19ryLzYavm9k",
        "colab_type": "code",
        "colab": {
          "base_uri": "https://localhost:8080/",
          "height": 34
        },
        "outputId": "ab74be7f-37be-4eba-a051-203b33e5e0ee"
      },
      "cell_type": "code",
      "source": [
        "df=pd.DataFrame(lst_lst, columns=['col1','col2','col3','col4'])\n",
        "df.col4[1]"
      ],
      "execution_count": 85,
      "outputs": [
        {
          "output_type": "execute_result",
          "data": {
            "text/plain": [
              "4.0"
            ]
          },
          "metadata": {
            "tags": []
          },
          "execution_count": 85
        }
      ]
    },
    {
      "metadata": {
        "id": "vA7dQoKSvqGq",
        "colab_type": "code",
        "colab": {
          "base_uri": "https://localhost:8080/",
          "height": 85
        },
        "outputId": "033ac852-0c1e-4c4f-9e33-5c859e0dc76c"
      },
      "cell_type": "code",
      "source": [
        "df=pd.DataFrame(lst_lst, columns=['col1','col2','col3','col4'])\n",
        "df['col1'] #instead of using the column name as a method so that you get the values?"
      ],
      "execution_count": 86,
      "outputs": [
        {
          "output_type": "execute_result",
          "data": {
            "text/plain": [
              "0      1\n",
              "1      1\n",
              "2    yes\n",
              "Name: col1, dtype: object"
            ]
          },
          "metadata": {
            "tags": []
          },
          "execution_count": 86
        }
      ]
    },
    {
      "metadata": {
        "id": "fI41KQOEv6Hm",
        "colab_type": "code",
        "colab": {
          "base_uri": "https://localhost:8080/",
          "height": 85
        },
        "outputId": "5e4026d3-e35b-4c40-d035-7dfc9155890d"
      },
      "cell_type": "code",
      "source": [
        "df=pd.DataFrame(lst_lst, columns=['col1','col2','col3','col4'])\n",
        "df.sum"
      ],
      "execution_count": 87,
      "outputs": [
        {
          "output_type": "execute_result",
          "data": {
            "text/plain": [
              "<bound method DataFrame.sum of   col1 col2  col3  col4\n",
              "0    1    2   3.0   NaN\n",
              "1    1    2   3.0   4.0\n",
              "2  yes   no   NaN   NaN>"
            ]
          },
          "metadata": {
            "tags": []
          },
          "execution_count": 87
        }
      ]
    },
    {
      "metadata": {
        "id": "CcE8DpoXv9Qv",
        "colab_type": "code",
        "colab": {
          "base_uri": "https://localhost:8080/",
          "height": 111
        },
        "outputId": "1aba0348-de46-49b6-b30c-8f1c6aea6caa"
      },
      "cell_type": "code",
      "source": [
        "dictionary={'list':[1,0],'set':{1,0},'tuple':(1,0)}\n",
        "pd.DataFrame(dictionary)"
      ],
      "execution_count": 88,
      "outputs": [
        {
          "output_type": "execute_result",
          "data": {
            "text/html": [
              "<div>\n",
              "<style scoped>\n",
              "    .dataframe tbody tr th:only-of-type {\n",
              "        vertical-align: middle;\n",
              "    }\n",
              "\n",
              "    .dataframe tbody tr th {\n",
              "        vertical-align: top;\n",
              "    }\n",
              "\n",
              "    .dataframe thead th {\n",
              "        text-align: right;\n",
              "    }\n",
              "</style>\n",
              "<table border=\"1\" class=\"dataframe\">\n",
              "  <thead>\n",
              "    <tr style=\"text-align: right;\">\n",
              "      <th></th>\n",
              "      <th>list</th>\n",
              "      <th>set</th>\n",
              "      <th>tuple</th>\n",
              "    </tr>\n",
              "  </thead>\n",
              "  <tbody>\n",
              "    <tr>\n",
              "      <th>0</th>\n",
              "      <td>1</td>\n",
              "      <td>{0, 1}</td>\n",
              "      <td>1</td>\n",
              "    </tr>\n",
              "    <tr>\n",
              "      <th>1</th>\n",
              "      <td>0</td>\n",
              "      <td>{0, 1}</td>\n",
              "      <td>0</td>\n",
              "    </tr>\n",
              "  </tbody>\n",
              "</table>\n",
              "</div>"
            ],
            "text/plain": [
              "   list     set  tuple\n",
              "0     1  {0, 1}      1\n",
              "1     0  {0, 1}      0"
            ]
          },
          "metadata": {
            "tags": []
          },
          "execution_count": 88
        }
      ]
    },
    {
      "metadata": {
        "id": "xbXt3XaxwaO-",
        "colab_type": "code",
        "colab": {
          "base_uri": "https://localhost:8080/",
          "height": 142
        },
        "outputId": "6b740e44-ffbb-4dc2-f770-635afb7a035a"
      },
      "cell_type": "code",
      "source": [
        "dictionary={'list':[1,0],'set':{1,0},'tuple':(1,0)}\n",
        "pd.DataFrame(dictionary).transpose() #we transpose it to obtain a proper dataframe\n",
        "df"
      ],
      "execution_count": 89,
      "outputs": [
        {
          "output_type": "execute_result",
          "data": {
            "text/html": [
              "<div>\n",
              "<style scoped>\n",
              "    .dataframe tbody tr th:only-of-type {\n",
              "        vertical-align: middle;\n",
              "    }\n",
              "\n",
              "    .dataframe tbody tr th {\n",
              "        vertical-align: top;\n",
              "    }\n",
              "\n",
              "    .dataframe thead th {\n",
              "        text-align: right;\n",
              "    }\n",
              "</style>\n",
              "<table border=\"1\" class=\"dataframe\">\n",
              "  <thead>\n",
              "    <tr style=\"text-align: right;\">\n",
              "      <th></th>\n",
              "      <th>col1</th>\n",
              "      <th>col2</th>\n",
              "      <th>col3</th>\n",
              "      <th>col4</th>\n",
              "    </tr>\n",
              "  </thead>\n",
              "  <tbody>\n",
              "    <tr>\n",
              "      <th>0</th>\n",
              "      <td>1</td>\n",
              "      <td>2</td>\n",
              "      <td>3.0</td>\n",
              "      <td>NaN</td>\n",
              "    </tr>\n",
              "    <tr>\n",
              "      <th>1</th>\n",
              "      <td>1</td>\n",
              "      <td>2</td>\n",
              "      <td>3.0</td>\n",
              "      <td>4.0</td>\n",
              "    </tr>\n",
              "    <tr>\n",
              "      <th>2</th>\n",
              "      <td>yes</td>\n",
              "      <td>no</td>\n",
              "      <td>NaN</td>\n",
              "      <td>NaN</td>\n",
              "    </tr>\n",
              "  </tbody>\n",
              "</table>\n",
              "</div>"
            ],
            "text/plain": [
              "  col1 col2  col3  col4\n",
              "0    1    2   3.0   NaN\n",
              "1    1    2   3.0   4.0\n",
              "2  yes   no   NaN   NaN"
            ]
          },
          "metadata": {
            "tags": []
          },
          "execution_count": 89
        }
      ]
    },
    {
      "metadata": {
        "id": "fZ14h9fzwlJL",
        "colab_type": "code",
        "colab": {
          "base_uri": "https://localhost:8080/",
          "height": 142
        },
        "outputId": "4cabf912-d908-4bf5-c972-451136afd82f"
      },
      "cell_type": "code",
      "source": [
        "dictionary={'list':[1,0],'set':{1,0},'tuple':(1,0)}\n",
        "df=pd.DataFrame(dictionary).transpose() #we transpose it to obtain a proper dataframe\n",
        "df"
      ],
      "execution_count": 90,
      "outputs": [
        {
          "output_type": "execute_result",
          "data": {
            "text/html": [
              "<div>\n",
              "<style scoped>\n",
              "    .dataframe tbody tr th:only-of-type {\n",
              "        vertical-align: middle;\n",
              "    }\n",
              "\n",
              "    .dataframe tbody tr th {\n",
              "        vertical-align: top;\n",
              "    }\n",
              "\n",
              "    .dataframe thead th {\n",
              "        text-align: right;\n",
              "    }\n",
              "</style>\n",
              "<table border=\"1\" class=\"dataframe\">\n",
              "  <thead>\n",
              "    <tr style=\"text-align: right;\">\n",
              "      <th></th>\n",
              "      <th>0</th>\n",
              "      <th>1</th>\n",
              "    </tr>\n",
              "  </thead>\n",
              "  <tbody>\n",
              "    <tr>\n",
              "      <th>list</th>\n",
              "      <td>1</td>\n",
              "      <td>0</td>\n",
              "    </tr>\n",
              "    <tr>\n",
              "      <th>set</th>\n",
              "      <td>{0, 1}</td>\n",
              "      <td>{0, 1}</td>\n",
              "    </tr>\n",
              "    <tr>\n",
              "      <th>tuple</th>\n",
              "      <td>1</td>\n",
              "      <td>0</td>\n",
              "    </tr>\n",
              "  </tbody>\n",
              "</table>\n",
              "</div>"
            ],
            "text/plain": [
              "            0       1\n",
              "list        1       0\n",
              "set    {0, 1}  {0, 1}\n",
              "tuple       1       0"
            ]
          },
          "metadata": {
            "tags": []
          },
          "execution_count": 90
        }
      ]
    },
    {
      "metadata": {
        "id": "THwgMVHFwngc",
        "colab_type": "code",
        "colab": {
          "base_uri": "https://localhost:8080/",
          "height": 231
        },
        "outputId": "510ac0a4-7e7d-4e3b-b883-b2833fcbbab9"
      },
      "cell_type": "code",
      "source": [
        "s=0\n",
        "for i in list:\n",
        "  s+=i\n",
        "s\n",
        "\n",
        "sum(lst)"
      ],
      "execution_count": 91,
      "outputs": [
        {
          "output_type": "error",
          "ename": "TypeError",
          "evalue": "ignored",
          "traceback": [
            "\u001b[0;31m---------------------------------------------------------------------------\u001b[0m",
            "\u001b[0;31mTypeError\u001b[0m                                 Traceback (most recent call last)",
            "\u001b[0;32m<ipython-input-91-dc30dd6053bb>\u001b[0m in \u001b[0;36m<module>\u001b[0;34m()\u001b[0m\n\u001b[1;32m      1\u001b[0m \u001b[0ms\u001b[0m\u001b[0;34m=\u001b[0m\u001b[0;36m0\u001b[0m\u001b[0;34m\u001b[0m\u001b[0;34m\u001b[0m\u001b[0m\n\u001b[0;32m----> 2\u001b[0;31m \u001b[0;32mfor\u001b[0m \u001b[0mi\u001b[0m \u001b[0;32min\u001b[0m \u001b[0mlist\u001b[0m\u001b[0;34m:\u001b[0m\u001b[0;34m\u001b[0m\u001b[0;34m\u001b[0m\u001b[0m\n\u001b[0m\u001b[1;32m      3\u001b[0m   \u001b[0ms\u001b[0m\u001b[0;34m+=\u001b[0m\u001b[0mi\u001b[0m\u001b[0;34m\u001b[0m\u001b[0;34m\u001b[0m\u001b[0m\n\u001b[1;32m      4\u001b[0m \u001b[0ms\u001b[0m\u001b[0;34m\u001b[0m\u001b[0;34m\u001b[0m\u001b[0m\n\u001b[1;32m      5\u001b[0m \u001b[0;34m\u001b[0m\u001b[0m\n",
            "\u001b[0;31mTypeError\u001b[0m: 'type' object is not iterable"
          ]
        }
      ]
    },
    {
      "metadata": {
        "id": "4dyKr3FvwuYQ",
        "colab_type": "code",
        "colab": {
          "base_uri": "https://localhost:8080/",
          "height": 34
        },
        "outputId": "ff9dd455-b37f-48ec-e15b-b44ad5e71e26"
      },
      "cell_type": "code",
      "source": [
        "s=0\n",
        "for i in lst:\n",
        "  s+=i\n",
        "s\n",
        "\n",
        "sum(lst)"
      ],
      "execution_count": 92,
      "outputs": [
        {
          "output_type": "execute_result",
          "data": {
            "text/plain": [
              "180"
            ]
          },
          "metadata": {
            "tags": []
          },
          "execution_count": 92
        }
      ]
    },
    {
      "metadata": {
        "id": "V57BOtPvw1LJ",
        "colab_type": "code",
        "colab": {
          "base_uri": "https://localhost:8080/",
          "height": 34
        },
        "outputId": "862272e9-001d-4a06-d361-0d7bce27bf6e"
      },
      "cell_type": "code",
      "source": [
        "s=0\n",
        "for i in lst:\n",
        "  s+=i\n",
        "s\n",
        "\n",
        "sum(lst)/len(lst)"
      ],
      "execution_count": 93,
      "outputs": [
        {
          "output_type": "execute_result",
          "data": {
            "text/plain": [
              "9.0"
            ]
          },
          "metadata": {
            "tags": []
          },
          "execution_count": 93
        }
      ]
    },
    {
      "metadata": {
        "id": "fT1PAZlzw5P5",
        "colab_type": "code",
        "colab": {
          "base_uri": "https://localhost:8080/",
          "height": 214
        },
        "outputId": "6a71fc4b-0933-48b8-dab1-ed6f7f461621"
      },
      "cell_type": "code",
      "source": [
        "s=0\n",
        "for i in lst:\n",
        "  s+=i\n",
        "s\n",
        "\n",
        "sum(lst)/len(lst)\n",
        "\n",
        "df=pd.Dataframe(lst)\n",
        "df.max()"
      ],
      "execution_count": 94,
      "outputs": [
        {
          "output_type": "error",
          "ename": "AttributeError",
          "evalue": "ignored",
          "traceback": [
            "\u001b[0;31m---------------------------------------------------------------------------\u001b[0m",
            "\u001b[0;31mAttributeError\u001b[0m                            Traceback (most recent call last)",
            "\u001b[0;32m<ipython-input-94-871426061bbb>\u001b[0m in \u001b[0;36m<module>\u001b[0;34m()\u001b[0m\n\u001b[1;32m      6\u001b[0m \u001b[0msum\u001b[0m\u001b[0;34m(\u001b[0m\u001b[0mlst\u001b[0m\u001b[0;34m)\u001b[0m\u001b[0;34m/\u001b[0m\u001b[0mlen\u001b[0m\u001b[0;34m(\u001b[0m\u001b[0mlst\u001b[0m\u001b[0;34m)\u001b[0m\u001b[0;34m\u001b[0m\u001b[0;34m\u001b[0m\u001b[0m\n\u001b[1;32m      7\u001b[0m \u001b[0;34m\u001b[0m\u001b[0m\n\u001b[0;32m----> 8\u001b[0;31m \u001b[0mdf\u001b[0m\u001b[0;34m=\u001b[0m\u001b[0mpd\u001b[0m\u001b[0;34m.\u001b[0m\u001b[0mDataframe\u001b[0m\u001b[0;34m(\u001b[0m\u001b[0mlst\u001b[0m\u001b[0;34m)\u001b[0m\u001b[0;34m\u001b[0m\u001b[0;34m\u001b[0m\u001b[0m\n\u001b[0m\u001b[1;32m      9\u001b[0m \u001b[0mdf\u001b[0m\u001b[0;34m.\u001b[0m\u001b[0mmax\u001b[0m\u001b[0;34m(\u001b[0m\u001b[0;34m)\u001b[0m\u001b[0;34m\u001b[0m\u001b[0;34m\u001b[0m\u001b[0m\n",
            "\u001b[0;31mAttributeError\u001b[0m: module 'pandas' has no attribute 'Dataframe'"
          ]
        }
      ]
    },
    {
      "metadata": {
        "id": "3bx7WXQIxBEn",
        "colab_type": "code",
        "colab": {
          "base_uri": "https://localhost:8080/",
          "height": 51
        },
        "outputId": "cc635752-94f0-47f8-ffa9-6b61576fad30"
      },
      "cell_type": "code",
      "source": [
        "s=0\n",
        "for i in lst:\n",
        "  s+=i\n",
        "s\n",
        "\n",
        "sum(lst)/len(lst)\n",
        "\n",
        "df=pd.DataFrame(lst)\n",
        "df.max()"
      ],
      "execution_count": 95,
      "outputs": [
        {
          "output_type": "execute_result",
          "data": {
            "text/plain": [
              "0    18\n",
              "dtype: int64"
            ]
          },
          "metadata": {
            "tags": []
          },
          "execution_count": 95
        }
      ]
    },
    {
      "metadata": {
        "id": "7dUilklrxFvN",
        "colab_type": "code",
        "colab": {}
      },
      "cell_type": "code",
      "source": [
        ""
      ],
      "execution_count": 0,
      "outputs": []
    }
  ]
}